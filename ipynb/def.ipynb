{
 "cells": [
  {
   "cell_type": "code",
   "execution_count": 1,
   "outputs": [],
   "source": [
    "import os\n",
    "import pandas as pd\n",
    "import numpy as np\n",
    "import matplotlib.pyplot as plot\n",
    "import seaborn as sns\n",
    "from sklearn.model_selection import train_test_split\n",
    "from sklearn.svm import SVR\n",
    "from sklearn import preprocessing\n",
    "from sklearn.metrics import mean_squared_error\n",
    "import matplotlib.pyplot as plt\n",
    "from sklearn.preprocessing import LabelEncoder\n",
    "from tqdm import tqdm\n",
    "from sklearn.preprocessing import StandardScaler\n",
    "from sklearn.ensemble import RandomForestRegressor\n",
    "\n",
    "import scipy"
   ],
   "metadata": {
    "collapsed": false,
    "pycharm": {
     "name": "#%%\n"
    }
   }
  },
  {
   "cell_type": "code",
   "execution_count": 10,
   "outputs": [],
   "source": [
    "def svr_test(train_25, test_25,sample_submission, ramdom_state):\n",
    "    X_train, X_test, y_train, y_test = train_test_split(train_25.drop('SalePrice', axis=1), train_25['SalePrice'], test_size=0.2, random_state=ramdom_state)\n",
    "    sc_std = preprocessing.StandardScaler()\n",
    "    sc_std_result = preprocessing.StandardScaler()\n",
    "    X_train_std = sc_std.fit_transform(X_train)\n",
    "    X_test_std = sc_std.fit_transform(X_test)\n",
    "    y_train_std = sc_std.fit_transform(y_train.values.reshape(-1, 1))\n",
    "    y_test_std = sc_std_result.fit_transform(y_test.values.reshape(-1, 1))\n",
    "    svr = SVR(kernel='linear')\n",
    "    svr.fit(X_train_std, y_train_std)\n",
    "    result = svr.predict(sc_std.fit_transform(test_25)).reshape(-1, 1)\n",
    "    result = sc_std_result.inverse_transform(result)\n",
    "    sample_Value = sample_submission['SalePrice']\n",
    "    sample_Value = sample_Value.values.reshape(-1, 1)\n",
    "    rmse = np.sqrt(mean_squared_error(sample_Value, result))\n",
    "    print(\"RMSE: %f\" % (rmse))"
   ],
   "metadata": {
    "collapsed": false,
    "pycharm": {
     "name": "#%%\n"
    }
   }
  },
  {
   "cell_type": "code",
   "execution_count": 2,
   "outputs": [
    {
     "name": "stderr",
     "output_type": "stream",
     "text": [
      "C:\\Users\\kangk\\AppData\\Local\\Temp\\ipykernel_43032\\486624216.py:19: SettingWithCopyWarning: \n",
      "A value is trying to be set on a copy of a slice from a DataFrame.\n",
      "Try using .loc[row_indexer,col_indexer] = value instead\n",
      "\n",
      "See the caveats in the documentation: https://pandas.pydata.org/pandas-docs/stable/user_guide/indexing.html#returning-a-view-versus-a-copy\n",
      "  train_25['GarageYrBlt']=train_25['GarageYrBlt'].fillna(train_25['GarageYrBlt'].mean())\n",
      "C:\\Users\\kangk\\AppData\\Local\\Temp\\ipykernel_43032\\486624216.py:20: SettingWithCopyWarning: \n",
      "A value is trying to be set on a copy of a slice from a DataFrame.\n",
      "Try using .loc[row_indexer,col_indexer] = value instead\n",
      "\n",
      "See the caveats in the documentation: https://pandas.pydata.org/pandas-docs/stable/user_guide/indexing.html#returning-a-view-versus-a-copy\n",
      "  train_25['MasVnrArea']=train_25['MasVnrArea'].fillna(train_25['MasVnrArea'].mean())\n",
      "C:\\Users\\kangk\\AppData\\Local\\Temp\\ipykernel_43032\\486624216.py:21: SettingWithCopyWarning: \n",
      "A value is trying to be set on a copy of a slice from a DataFrame.\n",
      "Try using .loc[row_indexer,col_indexer] = value instead\n",
      "\n",
      "See the caveats in the documentation: https://pandas.pydata.org/pandas-docs/stable/user_guide/indexing.html#returning-a-view-versus-a-copy\n",
      "  train_25['LotFrontage']=train_25['LotFrontage'].fillna(train_25['LotFrontage'].mean())\n",
      "C:\\Users\\kangk\\AppData\\Local\\Temp\\ipykernel_43032\\486624216.py:23: SettingWithCopyWarning: \n",
      "A value is trying to be set on a copy of a slice from a DataFrame.\n",
      "Try using .loc[row_indexer,col_indexer] = value instead\n",
      "\n",
      "See the caveats in the documentation: https://pandas.pydata.org/pandas-docs/stable/user_guide/indexing.html#returning-a-view-versus-a-copy\n",
      "  test_25['GarageYrBlt']=test_25['GarageYrBlt'].fillna(test_25['GarageYrBlt'].mean())\n",
      "C:\\Users\\kangk\\AppData\\Local\\Temp\\ipykernel_43032\\486624216.py:24: SettingWithCopyWarning: \n",
      "A value is trying to be set on a copy of a slice from a DataFrame.\n",
      "Try using .loc[row_indexer,col_indexer] = value instead\n",
      "\n",
      "See the caveats in the documentation: https://pandas.pydata.org/pandas-docs/stable/user_guide/indexing.html#returning-a-view-versus-a-copy\n",
      "  test_25['MasVnrArea']=test_25['MasVnrArea'].fillna(test_25['MasVnrArea'].mean())\n",
      "C:\\Users\\kangk\\AppData\\Local\\Temp\\ipykernel_43032\\486624216.py:25: SettingWithCopyWarning: \n",
      "A value is trying to be set on a copy of a slice from a DataFrame.\n",
      "Try using .loc[row_indexer,col_indexer] = value instead\n",
      "\n",
      "See the caveats in the documentation: https://pandas.pydata.org/pandas-docs/stable/user_guide/indexing.html#returning-a-view-versus-a-copy\n",
      "  test_25['LotFrontage']=test_25['LotFrontage'].fillna(test_25['LotFrontage'].mean())\n",
      "C:\\Users\\kangk\\AppData\\Local\\Temp\\ipykernel_43032\\486624216.py:26: SettingWithCopyWarning: \n",
      "A value is trying to be set on a copy of a slice from a DataFrame.\n",
      "Try using .loc[row_indexer,col_indexer] = value instead\n",
      "\n",
      "See the caveats in the documentation: https://pandas.pydata.org/pandas-docs/stable/user_guide/indexing.html#returning-a-view-versus-a-copy\n",
      "  test_25['GarageArea']=test_25['GarageArea'].fillna(test_25['GarageArea'].mean())\n",
      "C:\\Users\\kangk\\AppData\\Local\\Temp\\ipykernel_43032\\486624216.py:27: SettingWithCopyWarning: \n",
      "A value is trying to be set on a copy of a slice from a DataFrame.\n",
      "Try using .loc[row_indexer,col_indexer] = value instead\n",
      "\n",
      "See the caveats in the documentation: https://pandas.pydata.org/pandas-docs/stable/user_guide/indexing.html#returning-a-view-versus-a-copy\n",
      "  test_25['GarageCars']=test_25['GarageCars'].fillna(test_25['GarageCars'].mean())\n",
      "C:\\Users\\kangk\\AppData\\Local\\Temp\\ipykernel_43032\\486624216.py:28: SettingWithCopyWarning: \n",
      "A value is trying to be set on a copy of a slice from a DataFrame.\n",
      "Try using .loc[row_indexer,col_indexer] = value instead\n",
      "\n",
      "See the caveats in the documentation: https://pandas.pydata.org/pandas-docs/stable/user_guide/indexing.html#returning-a-view-versus-a-copy\n",
      "  test_25['TotalBsmtSF']=test_25['TotalBsmtSF'].fillna(test_25['TotalBsmtSF'].mean())\n",
      "C:\\Users\\kangk\\AppData\\Local\\Temp\\ipykernel_43032\\486624216.py:29: SettingWithCopyWarning: \n",
      "A value is trying to be set on a copy of a slice from a DataFrame.\n",
      "Try using .loc[row_indexer,col_indexer] = value instead\n",
      "\n",
      "See the caveats in the documentation: https://pandas.pydata.org/pandas-docs/stable/user_guide/indexing.html#returning-a-view-versus-a-copy\n",
      "  test_25['BsmtFinSF1']=test_25['BsmtFinSF1'].fillna(test_25['BsmtFinSF1'].mean())\n",
      "C:\\Users\\kangk\\AppData\\Local\\Temp\\ipykernel_43032\\486624216.py:31: SettingWithCopyWarning: \n",
      "A value is trying to be set on a copy of a slice from a DataFrame.\n",
      "Try using .loc[row_indexer,col_indexer] = value instead\n",
      "\n",
      "See the caveats in the documentation: https://pandas.pydata.org/pandas-docs/stable/user_guide/indexing.html#returning-a-view-versus-a-copy\n",
      "  test['GarageYrBlt']=test['GarageYrBlt'].fillna(test['GarageYrBlt'].mean())\n",
      "C:\\Users\\kangk\\AppData\\Local\\Temp\\ipykernel_43032\\486624216.py:32: SettingWithCopyWarning: \n",
      "A value is trying to be set on a copy of a slice from a DataFrame.\n",
      "Try using .loc[row_indexer,col_indexer] = value instead\n",
      "\n",
      "See the caveats in the documentation: https://pandas.pydata.org/pandas-docs/stable/user_guide/indexing.html#returning-a-view-versus-a-copy\n",
      "  test['MasVnrArea']=test['MasVnrArea'].fillna(test['MasVnrArea'].mean())\n",
      "C:\\Users\\kangk\\AppData\\Local\\Temp\\ipykernel_43032\\486624216.py:33: SettingWithCopyWarning: \n",
      "A value is trying to be set on a copy of a slice from a DataFrame.\n",
      "Try using .loc[row_indexer,col_indexer] = value instead\n",
      "\n",
      "See the caveats in the documentation: https://pandas.pydata.org/pandas-docs/stable/user_guide/indexing.html#returning-a-view-versus-a-copy\n",
      "  test['LotFrontage']=test['LotFrontage'].fillna(test['LotFrontage'].mean())\n",
      "C:\\Users\\kangk\\AppData\\Local\\Temp\\ipykernel_43032\\486624216.py:34: SettingWithCopyWarning: \n",
      "A value is trying to be set on a copy of a slice from a DataFrame.\n",
      "Try using .loc[row_indexer,col_indexer] = value instead\n",
      "\n",
      "See the caveats in the documentation: https://pandas.pydata.org/pandas-docs/stable/user_guide/indexing.html#returning-a-view-versus-a-copy\n",
      "  test['GarageArea']=test['GarageArea'].fillna(test['GarageArea'].mean())\n",
      "C:\\Users\\kangk\\AppData\\Local\\Temp\\ipykernel_43032\\486624216.py:35: SettingWithCopyWarning: \n",
      "A value is trying to be set on a copy of a slice from a DataFrame.\n",
      "Try using .loc[row_indexer,col_indexer] = value instead\n",
      "\n",
      "See the caveats in the documentation: https://pandas.pydata.org/pandas-docs/stable/user_guide/indexing.html#returning-a-view-versus-a-copy\n",
      "  test['GarageCars']=test['GarageCars'].fillna(test['GarageCars'].mean())\n",
      "C:\\Users\\kangk\\AppData\\Local\\Temp\\ipykernel_43032\\486624216.py:36: SettingWithCopyWarning: \n",
      "A value is trying to be set on a copy of a slice from a DataFrame.\n",
      "Try using .loc[row_indexer,col_indexer] = value instead\n",
      "\n",
      "See the caveats in the documentation: https://pandas.pydata.org/pandas-docs/stable/user_guide/indexing.html#returning-a-view-versus-a-copy\n",
      "  test['TotalBsmtSF']=test['TotalBsmtSF'].fillna(test['TotalBsmtSF'].mean())\n",
      "C:\\Users\\kangk\\AppData\\Local\\Temp\\ipykernel_43032\\486624216.py:37: SettingWithCopyWarning: \n",
      "A value is trying to be set on a copy of a slice from a DataFrame.\n",
      "Try using .loc[row_indexer,col_indexer] = value instead\n",
      "\n",
      "See the caveats in the documentation: https://pandas.pydata.org/pandas-docs/stable/user_guide/indexing.html#returning-a-view-versus-a-copy\n",
      "  test['BsmtFinSF1']=test['BsmtFinSF1'].fillna(test['BsmtFinSF1'].mean())\n"
     ]
    },
    {
     "data": {
      "text/plain": "Id              0\nGrLivArea       0\nWoodDeckSF      0\nGarageArea      0\nGarageCars      0\nGarageYrBlt     0\nFireplaces      0\nTotRmsAbvGrd    0\nHalfBath        0\nFullBath        0\n2ndFlrSF        0\nLotFrontage     0\n1stFlrSF        0\nTotalBsmtSF     0\nBsmtFinSF1      0\nMasVnrArea      0\nYearRemodAdd    0\nYearBuilt       0\nOverallQual     0\nLotArea         0\ndtype: int64"
     },
     "execution_count": 2,
     "metadata": {},
     "output_type": "execute_result"
    }
   ],
   "source": [
    "original_train = pd.read_csv(\"https://luo200105.github.io/DataHost/IN3007/Original_train.csv\")\n",
    "original_test = pd.read_csv(\"https://luo200105.github.io/DataHost/IN3007/Original_test.csv\")\n",
    "sample_submission = pd.read_csv(\"https://luo200105.github.io/DataHost/IN3007/sample_submission.csv\")\n",
    "corrmat_train = original_train.corr()\n",
    "train_25 = original_train[['LotFrontage', 'LotArea', 'OverallQual', 'YearBuilt', 'YearRemodAdd',\n",
    "                           'MasVnrArea', 'BsmtFinSF1', 'TotalBsmtSF', '1stFlrSF', '2ndFlrSF',\n",
    "                           'GrLivArea', 'FullBath', 'HalfBath', 'TotRmsAbvGrd', 'Fireplaces',\n",
    "                           'GarageYrBlt', 'GarageCars', 'GarageArea', 'WoodDeckSF', 'OpenPorchSF',\n",
    "                           'SalePrice']]\n",
    "test_25 = original_test[['LotFrontage', 'LotArea', 'OverallQual', 'YearBuilt', 'YearRemodAdd',\n",
    "                         'MasVnrArea', 'BsmtFinSF1', 'TotalBsmtSF', '1stFlrSF', '2ndFlrSF',\n",
    "                         'GrLivArea', 'FullBath', 'HalfBath', 'TotRmsAbvGrd', 'Fireplaces',\n",
    "                         'GarageYrBlt', 'GarageCars', 'GarageArea', 'WoodDeckSF', 'OpenPorchSF']]\n",
    "test = original_test[['Id','LotFrontage', 'LotArea', 'OverallQual', 'YearBuilt', 'YearRemodAdd',\n",
    "                      'MasVnrArea', 'BsmtFinSF1', 'TotalBsmtSF', '1stFlrSF', '2ndFlrSF',\n",
    "                      'GrLivArea', 'FullBath', 'HalfBath', 'TotRmsAbvGrd', 'Fireplaces',\n",
    "                      'GarageYrBlt', 'GarageCars', 'GarageArea', 'WoodDeckSF', 'OpenPorchSF']]\n",
    "corrmat_train = train_25.corr()\n",
    "train_25['GarageYrBlt']=train_25['GarageYrBlt'].fillna(train_25['GarageYrBlt'].mean())\n",
    "train_25['MasVnrArea']=train_25['MasVnrArea'].fillna(train_25['MasVnrArea'].mean())\n",
    "train_25['LotFrontage']=train_25['LotFrontage'].fillna(train_25['LotFrontage'].mean())\n",
    "train_25.isnull().sum().sort_values(ascending=False).head(20)\n",
    "test_25['GarageYrBlt']=test_25['GarageYrBlt'].fillna(test_25['GarageYrBlt'].mean())\n",
    "test_25['MasVnrArea']=test_25['MasVnrArea'].fillna(test_25['MasVnrArea'].mean())\n",
    "test_25['LotFrontage']=test_25['LotFrontage'].fillna(test_25['LotFrontage'].mean())\n",
    "test_25['GarageArea']=test_25['GarageArea'].fillna(test_25['GarageArea'].mean())\n",
    "test_25['GarageCars']=test_25['GarageCars'].fillna(test_25['GarageCars'].mean())\n",
    "test_25['TotalBsmtSF']=test_25['TotalBsmtSF'].fillna(test_25['TotalBsmtSF'].mean())\n",
    "test_25['BsmtFinSF1']=test_25['BsmtFinSF1'].fillna(test_25['BsmtFinSF1'].mean())\n",
    "test_25.isnull().sum().sort_values(ascending=False).head(20)\n",
    "test['GarageYrBlt']=test['GarageYrBlt'].fillna(test['GarageYrBlt'].mean())\n",
    "test['MasVnrArea']=test['MasVnrArea'].fillna(test['MasVnrArea'].mean())\n",
    "test['LotFrontage']=test['LotFrontage'].fillna(test['LotFrontage'].mean())\n",
    "test['GarageArea']=test['GarageArea'].fillna(test['GarageArea'].mean())\n",
    "test['GarageCars']=test['GarageCars'].fillna(test['GarageCars'].mean())\n",
    "test['TotalBsmtSF']=test['TotalBsmtSF'].fillna(test['TotalBsmtSF'].mean())\n",
    "test['BsmtFinSF1']=test['BsmtFinSF1'].fillna(test['BsmtFinSF1'].mean())\n",
    "test.isnull().sum().sort_values(ascending=False).head(20)"
   ],
   "metadata": {
    "collapsed": false,
    "pycharm": {
     "name": "#%%\n"
    }
   }
  },
  {
   "cell_type": "code",
   "execution_count": null,
   "outputs": [
    {
     "name": "stderr",
     "output_type": "stream",
     "text": [
      "  0%|          | 0/149 [00:00<?, ?it/s]C:\\Users\\kangk\\anaconda3\\lib\\site-packages\\sklearn\\utils\\validation.py:993: DataConversionWarning: A column-vector y was passed when a 1d array was expected. Please change the shape of y to (n_samples, ), for example using ravel().\n",
      "  y = column_or_1d(y, warn=True)\n"
     ]
    }
   ],
   "source": [
    "for i in tqdm(range(1, 150)):\n",
    "    X_train, X_test, y_train, y_test = train_test_split(train_25.drop('SalePrice', axis=1), train_25['SalePrice'], test_size=0.3, random_state=50)\n",
    "    sc_std = preprocessing.StandardScaler()\n",
    "    sc_std_result = preprocessing.StandardScaler()\n",
    "    X_train_std = sc_std.fit_transform(X_train)\n",
    "    X_test_std = sc_std.fit_transform(X_test)\n",
    "    y_train_std = sc_std.fit_transform(y_train.values.reshape(-1, 1))\n",
    "    y_test_std = sc_std_result.fit_transform(y_test.values.reshape(-1, 1))\n",
    "    svr = SVR(kernel='linear', C=1e3, gamma=i)\n",
    "    svr.fit(X_train_std, y_train_std)\n",
    "    result = svr.predict(sc_std.fit_transform(test_25)).reshape(-1, 1)\n",
    "    result = sc_std_result.inverse_transform(result)\n",
    "    sample_Value = sample_submission['SalePrice']\n",
    "    sample_Value = sample_Value.values.reshape(-1, 1)\n",
    "    rmse = np.sqrt(mean_squared_error(sample_Value, result))\n",
    "    print(\"RMSE: %f\" % (rmse))"
   ],
   "metadata": {
    "collapsed": false,
    "pycharm": {
     "name": "#%%\n"
    }
   }
  },
  {
   "cell_type": "code",
   "execution_count": 3,
   "outputs": [
    {
     "name": "stderr",
     "output_type": "stream",
     "text": [
      "  0%|          | 0/149 [00:00<?, ?it/s]C:\\Users\\kangk\\AppData\\Local\\Temp\\ipykernel_43032\\1448372757.py:11: DataConversionWarning: A column-vector y was passed when a 1d array was expected. Please change the shape of y to (n_samples,), for example using ravel().\n",
      "  rf.fit(X_train_std, y_train_std)\n",
      "  1%|          | 1/149 [00:00<01:11,  2.07it/s]"
     ]
    },
    {
     "name": "stdout",
     "output_type": "stream",
     "text": [
      "RMSE: 67075.204162\n"
     ]
    },
    {
     "name": "stderr",
     "output_type": "stream",
     "text": [
      "C:\\Users\\kangk\\AppData\\Local\\Temp\\ipykernel_43032\\1448372757.py:11: DataConversionWarning: A column-vector y was passed when a 1d array was expected. Please change the shape of y to (n_samples,), for example using ravel().\n",
      "  rf.fit(X_train_std, y_train_std)\n",
      "  1%|▏         | 2/149 [00:00<01:09,  2.10it/s]"
     ]
    },
    {
     "name": "stdout",
     "output_type": "stream",
     "text": [
      "RMSE: 68080.667808\n"
     ]
    },
    {
     "name": "stderr",
     "output_type": "stream",
     "text": [
      "C:\\Users\\kangk\\AppData\\Local\\Temp\\ipykernel_43032\\1448372757.py:11: DataConversionWarning: A column-vector y was passed when a 1d array was expected. Please change the shape of y to (n_samples,), for example using ravel().\n",
      "  rf.fit(X_train_std, y_train_std)\n",
      "  2%|▏         | 3/149 [00:01<01:09,  2.11it/s]"
     ]
    },
    {
     "name": "stdout",
     "output_type": "stream",
     "text": [
      "RMSE: 69130.899122\n"
     ]
    },
    {
     "name": "stderr",
     "output_type": "stream",
     "text": [
      "C:\\Users\\kangk\\AppData\\Local\\Temp\\ipykernel_43032\\1448372757.py:11: DataConversionWarning: A column-vector y was passed when a 1d array was expected. Please change the shape of y to (n_samples,), for example using ravel().\n",
      "  rf.fit(X_train_std, y_train_std)\n",
      "  3%|▎         | 4/149 [00:01<01:08,  2.12it/s]"
     ]
    },
    {
     "name": "stdout",
     "output_type": "stream",
     "text": [
      "RMSE: 68351.921567\n"
     ]
    },
    {
     "name": "stderr",
     "output_type": "stream",
     "text": [
      "C:\\Users\\kangk\\AppData\\Local\\Temp\\ipykernel_43032\\1448372757.py:11: DataConversionWarning: A column-vector y was passed when a 1d array was expected. Please change the shape of y to (n_samples,), for example using ravel().\n",
      "  rf.fit(X_train_std, y_train_std)\n",
      "  3%|▎         | 5/149 [00:02<01:07,  2.13it/s]"
     ]
    },
    {
     "name": "stdout",
     "output_type": "stream",
     "text": [
      "RMSE: 68516.566554\n"
     ]
    },
    {
     "name": "stderr",
     "output_type": "stream",
     "text": [
      "C:\\Users\\kangk\\AppData\\Local\\Temp\\ipykernel_43032\\1448372757.py:11: DataConversionWarning: A column-vector y was passed when a 1d array was expected. Please change the shape of y to (n_samples,), for example using ravel().\n",
      "  rf.fit(X_train_std, y_train_std)\n",
      "  4%|▍         | 6/149 [00:02<01:07,  2.12it/s]"
     ]
    },
    {
     "name": "stdout",
     "output_type": "stream",
     "text": [
      "RMSE: 68651.681310\n"
     ]
    },
    {
     "name": "stderr",
     "output_type": "stream",
     "text": [
      "C:\\Users\\kangk\\AppData\\Local\\Temp\\ipykernel_43032\\1448372757.py:11: DataConversionWarning: A column-vector y was passed when a 1d array was expected. Please change the shape of y to (n_samples,), for example using ravel().\n",
      "  rf.fit(X_train_std, y_train_std)\n",
      "  5%|▍         | 7/149 [00:03<01:07,  2.10it/s]"
     ]
    },
    {
     "name": "stdout",
     "output_type": "stream",
     "text": [
      "RMSE: 68290.607539\n"
     ]
    },
    {
     "name": "stderr",
     "output_type": "stream",
     "text": [
      "C:\\Users\\kangk\\AppData\\Local\\Temp\\ipykernel_43032\\1448372757.py:11: DataConversionWarning: A column-vector y was passed when a 1d array was expected. Please change the shape of y to (n_samples,), for example using ravel().\n",
      "  rf.fit(X_train_std, y_train_std)\n",
      "  5%|▌         | 8/149 [00:03<01:07,  2.09it/s]"
     ]
    },
    {
     "name": "stdout",
     "output_type": "stream",
     "text": [
      "RMSE: 68600.629901\n"
     ]
    },
    {
     "name": "stderr",
     "output_type": "stream",
     "text": [
      "C:\\Users\\kangk\\AppData\\Local\\Temp\\ipykernel_43032\\1448372757.py:11: DataConversionWarning: A column-vector y was passed when a 1d array was expected. Please change the shape of y to (n_samples,), for example using ravel().\n",
      "  rf.fit(X_train_std, y_train_std)\n",
      "  6%|▌         | 9/149 [00:04<01:07,  2.09it/s]"
     ]
    },
    {
     "name": "stdout",
     "output_type": "stream",
     "text": [
      "RMSE: 68113.898956\n"
     ]
    },
    {
     "name": "stderr",
     "output_type": "stream",
     "text": [
      "C:\\Users\\kangk\\AppData\\Local\\Temp\\ipykernel_43032\\1448372757.py:11: DataConversionWarning: A column-vector y was passed when a 1d array was expected. Please change the shape of y to (n_samples,), for example using ravel().\n",
      "  rf.fit(X_train_std, y_train_std)\n",
      "  7%|▋         | 10/149 [00:04<01:07,  2.07it/s]"
     ]
    },
    {
     "name": "stdout",
     "output_type": "stream",
     "text": [
      "RMSE: 68040.370841\n"
     ]
    },
    {
     "name": "stderr",
     "output_type": "stream",
     "text": [
      "C:\\Users\\kangk\\AppData\\Local\\Temp\\ipykernel_43032\\1448372757.py:11: DataConversionWarning: A column-vector y was passed when a 1d array was expected. Please change the shape of y to (n_samples,), for example using ravel().\n",
      "  rf.fit(X_train_std, y_train_std)\n",
      "  7%|▋         | 11/149 [00:05<01:07,  2.04it/s]"
     ]
    },
    {
     "name": "stdout",
     "output_type": "stream",
     "text": [
      "RMSE: 68168.800634\n"
     ]
    },
    {
     "name": "stderr",
     "output_type": "stream",
     "text": [
      "C:\\Users\\kangk\\AppData\\Local\\Temp\\ipykernel_43032\\1448372757.py:11: DataConversionWarning: A column-vector y was passed when a 1d array was expected. Please change the shape of y to (n_samples,), for example using ravel().\n",
      "  rf.fit(X_train_std, y_train_std)\n",
      "  8%|▊         | 12/149 [00:05<01:06,  2.06it/s]"
     ]
    },
    {
     "name": "stdout",
     "output_type": "stream",
     "text": [
      "RMSE: 68114.538115\n"
     ]
    },
    {
     "name": "stderr",
     "output_type": "stream",
     "text": [
      "C:\\Users\\kangk\\AppData\\Local\\Temp\\ipykernel_43032\\1448372757.py:11: DataConversionWarning: A column-vector y was passed when a 1d array was expected. Please change the shape of y to (n_samples,), for example using ravel().\n",
      "  rf.fit(X_train_std, y_train_std)\n",
      "  9%|▊         | 13/149 [00:06<01:06,  2.06it/s]"
     ]
    },
    {
     "name": "stdout",
     "output_type": "stream",
     "text": [
      "RMSE: 67804.251766\n"
     ]
    },
    {
     "name": "stderr",
     "output_type": "stream",
     "text": [
      "C:\\Users\\kangk\\AppData\\Local\\Temp\\ipykernel_43032\\1448372757.py:11: DataConversionWarning: A column-vector y was passed when a 1d array was expected. Please change the shape of y to (n_samples,), for example using ravel().\n",
      "  rf.fit(X_train_std, y_train_std)\n",
      "  9%|▉         | 14/149 [00:06<01:05,  2.05it/s]"
     ]
    },
    {
     "name": "stdout",
     "output_type": "stream",
     "text": [
      "RMSE: 67915.103608\n"
     ]
    },
    {
     "name": "stderr",
     "output_type": "stream",
     "text": [
      "C:\\Users\\kangk\\AppData\\Local\\Temp\\ipykernel_43032\\1448372757.py:11: DataConversionWarning: A column-vector y was passed when a 1d array was expected. Please change the shape of y to (n_samples,), for example using ravel().\n",
      "  rf.fit(X_train_std, y_train_std)\n",
      " 10%|█         | 15/149 [00:07<01:05,  2.04it/s]"
     ]
    },
    {
     "name": "stdout",
     "output_type": "stream",
     "text": [
      "RMSE: 68808.616670\n"
     ]
    },
    {
     "name": "stderr",
     "output_type": "stream",
     "text": [
      "C:\\Users\\kangk\\AppData\\Local\\Temp\\ipykernel_43032\\1448372757.py:11: DataConversionWarning: A column-vector y was passed when a 1d array was expected. Please change the shape of y to (n_samples,), for example using ravel().\n",
      "  rf.fit(X_train_std, y_train_std)\n",
      " 11%|█         | 16/149 [00:07<01:04,  2.06it/s]"
     ]
    },
    {
     "name": "stdout",
     "output_type": "stream",
     "text": [
      "RMSE: 68572.104022\n"
     ]
    },
    {
     "name": "stderr",
     "output_type": "stream",
     "text": [
      "C:\\Users\\kangk\\AppData\\Local\\Temp\\ipykernel_43032\\1448372757.py:11: DataConversionWarning: A column-vector y was passed when a 1d array was expected. Please change the shape of y to (n_samples,), for example using ravel().\n",
      "  rf.fit(X_train_std, y_train_std)\n",
      " 11%|█▏        | 17/149 [00:08<01:04,  2.04it/s]"
     ]
    },
    {
     "name": "stdout",
     "output_type": "stream",
     "text": [
      "RMSE: 68440.714722\n"
     ]
    },
    {
     "name": "stderr",
     "output_type": "stream",
     "text": [
      "C:\\Users\\kangk\\AppData\\Local\\Temp\\ipykernel_43032\\1448372757.py:11: DataConversionWarning: A column-vector y was passed when a 1d array was expected. Please change the shape of y to (n_samples,), for example using ravel().\n",
      "  rf.fit(X_train_std, y_train_std)\n",
      " 12%|█▏        | 18/149 [00:08<01:03,  2.05it/s]"
     ]
    },
    {
     "name": "stdout",
     "output_type": "stream",
     "text": [
      "RMSE: 69111.001600\n"
     ]
    },
    {
     "name": "stderr",
     "output_type": "stream",
     "text": [
      "C:\\Users\\kangk\\AppData\\Local\\Temp\\ipykernel_43032\\1448372757.py:11: DataConversionWarning: A column-vector y was passed when a 1d array was expected. Please change the shape of y to (n_samples,), for example using ravel().\n",
      "  rf.fit(X_train_std, y_train_std)\n",
      " 13%|█▎        | 19/149 [00:09<01:03,  2.06it/s]"
     ]
    },
    {
     "name": "stdout",
     "output_type": "stream",
     "text": [
      "RMSE: 69019.714377\n"
     ]
    },
    {
     "name": "stderr",
     "output_type": "stream",
     "text": [
      "C:\\Users\\kangk\\AppData\\Local\\Temp\\ipykernel_43032\\1448372757.py:11: DataConversionWarning: A column-vector y was passed when a 1d array was expected. Please change the shape of y to (n_samples,), for example using ravel().\n",
      "  rf.fit(X_train_std, y_train_std)\n",
      " 13%|█▎        | 20/149 [00:09<01:02,  2.05it/s]"
     ]
    },
    {
     "name": "stdout",
     "output_type": "stream",
     "text": [
      "RMSE: 68275.993352\n"
     ]
    },
    {
     "name": "stderr",
     "output_type": "stream",
     "text": [
      "C:\\Users\\kangk\\AppData\\Local\\Temp\\ipykernel_43032\\1448372757.py:11: DataConversionWarning: A column-vector y was passed when a 1d array was expected. Please change the shape of y to (n_samples,), for example using ravel().\n",
      "  rf.fit(X_train_std, y_train_std)\n",
      " 14%|█▍        | 21/149 [00:10<01:01,  2.07it/s]"
     ]
    },
    {
     "name": "stdout",
     "output_type": "stream",
     "text": [
      "RMSE: 68397.543420\n"
     ]
    },
    {
     "name": "stderr",
     "output_type": "stream",
     "text": [
      "C:\\Users\\kangk\\AppData\\Local\\Temp\\ipykernel_43032\\1448372757.py:11: DataConversionWarning: A column-vector y was passed when a 1d array was expected. Please change the shape of y to (n_samples,), for example using ravel().\n",
      "  rf.fit(X_train_std, y_train_std)\n",
      " 15%|█▍        | 22/149 [00:10<01:00,  2.09it/s]"
     ]
    },
    {
     "name": "stdout",
     "output_type": "stream",
     "text": [
      "RMSE: 67997.088923\n"
     ]
    },
    {
     "name": "stderr",
     "output_type": "stream",
     "text": [
      "C:\\Users\\kangk\\AppData\\Local\\Temp\\ipykernel_43032\\1448372757.py:11: DataConversionWarning: A column-vector y was passed when a 1d array was expected. Please change the shape of y to (n_samples,), for example using ravel().\n",
      "  rf.fit(X_train_std, y_train_std)\n",
      " 15%|█▌        | 23/149 [00:11<01:00,  2.10it/s]"
     ]
    },
    {
     "name": "stdout",
     "output_type": "stream",
     "text": [
      "RMSE: 68435.519492\n"
     ]
    },
    {
     "name": "stderr",
     "output_type": "stream",
     "text": [
      "C:\\Users\\kangk\\AppData\\Local\\Temp\\ipykernel_43032\\1448372757.py:11: DataConversionWarning: A column-vector y was passed when a 1d array was expected. Please change the shape of y to (n_samples,), for example using ravel().\n",
      "  rf.fit(X_train_std, y_train_std)\n",
      " 16%|█▌        | 24/149 [00:11<00:59,  2.11it/s]"
     ]
    },
    {
     "name": "stdout",
     "output_type": "stream",
     "text": [
      "RMSE: 68119.227478\n"
     ]
    },
    {
     "name": "stderr",
     "output_type": "stream",
     "text": [
      "C:\\Users\\kangk\\AppData\\Local\\Temp\\ipykernel_43032\\1448372757.py:11: DataConversionWarning: A column-vector y was passed when a 1d array was expected. Please change the shape of y to (n_samples,), for example using ravel().\n",
      "  rf.fit(X_train_std, y_train_std)\n",
      " 17%|█▋        | 25/149 [00:12<00:58,  2.12it/s]"
     ]
    },
    {
     "name": "stdout",
     "output_type": "stream",
     "text": [
      "RMSE: 68011.110610\n"
     ]
    },
    {
     "name": "stderr",
     "output_type": "stream",
     "text": [
      "C:\\Users\\kangk\\AppData\\Local\\Temp\\ipykernel_43032\\1448372757.py:11: DataConversionWarning: A column-vector y was passed when a 1d array was expected. Please change the shape of y to (n_samples,), for example using ravel().\n",
      "  rf.fit(X_train_std, y_train_std)\n",
      " 17%|█▋        | 26/149 [00:12<00:58,  2.12it/s]"
     ]
    },
    {
     "name": "stdout",
     "output_type": "stream",
     "text": [
      "RMSE: 68764.388587\n"
     ]
    },
    {
     "name": "stderr",
     "output_type": "stream",
     "text": [
      "C:\\Users\\kangk\\AppData\\Local\\Temp\\ipykernel_43032\\1448372757.py:11: DataConversionWarning: A column-vector y was passed when a 1d array was expected. Please change the shape of y to (n_samples,), for example using ravel().\n",
      "  rf.fit(X_train_std, y_train_std)\n",
      " 18%|█▊        | 27/149 [00:12<00:57,  2.11it/s]"
     ]
    },
    {
     "name": "stdout",
     "output_type": "stream",
     "text": [
      "RMSE: 68653.979160\n"
     ]
    },
    {
     "name": "stderr",
     "output_type": "stream",
     "text": [
      "C:\\Users\\kangk\\AppData\\Local\\Temp\\ipykernel_43032\\1448372757.py:11: DataConversionWarning: A column-vector y was passed when a 1d array was expected. Please change the shape of y to (n_samples,), for example using ravel().\n",
      "  rf.fit(X_train_std, y_train_std)\n",
      " 19%|█▉        | 28/149 [00:13<00:57,  2.10it/s]"
     ]
    },
    {
     "name": "stdout",
     "output_type": "stream",
     "text": [
      "RMSE: 69110.603099\n"
     ]
    },
    {
     "name": "stderr",
     "output_type": "stream",
     "text": [
      "C:\\Users\\kangk\\AppData\\Local\\Temp\\ipykernel_43032\\1448372757.py:11: DataConversionWarning: A column-vector y was passed when a 1d array was expected. Please change the shape of y to (n_samples,), for example using ravel().\n",
      "  rf.fit(X_train_std, y_train_std)\n",
      " 19%|█▉        | 29/149 [00:13<00:57,  2.10it/s]"
     ]
    },
    {
     "name": "stdout",
     "output_type": "stream",
     "text": [
      "RMSE: 68708.580995\n"
     ]
    },
    {
     "name": "stderr",
     "output_type": "stream",
     "text": [
      "C:\\Users\\kangk\\AppData\\Local\\Temp\\ipykernel_43032\\1448372757.py:11: DataConversionWarning: A column-vector y was passed when a 1d array was expected. Please change the shape of y to (n_samples,), for example using ravel().\n",
      "  rf.fit(X_train_std, y_train_std)\n",
      " 20%|██        | 30/149 [00:14<00:57,  2.08it/s]"
     ]
    },
    {
     "name": "stdout",
     "output_type": "stream",
     "text": [
      "RMSE: 68638.160694\n"
     ]
    },
    {
     "name": "stderr",
     "output_type": "stream",
     "text": [
      "C:\\Users\\kangk\\AppData\\Local\\Temp\\ipykernel_43032\\1448372757.py:11: DataConversionWarning: A column-vector y was passed when a 1d array was expected. Please change the shape of y to (n_samples,), for example using ravel().\n",
      "  rf.fit(X_train_std, y_train_std)\n",
      " 21%|██        | 31/149 [00:14<00:56,  2.08it/s]"
     ]
    },
    {
     "name": "stdout",
     "output_type": "stream",
     "text": [
      "RMSE: 68311.033203\n"
     ]
    },
    {
     "name": "stderr",
     "output_type": "stream",
     "text": [
      "C:\\Users\\kangk\\AppData\\Local\\Temp\\ipykernel_43032\\1448372757.py:11: DataConversionWarning: A column-vector y was passed when a 1d array was expected. Please change the shape of y to (n_samples,), for example using ravel().\n",
      "  rf.fit(X_train_std, y_train_std)\n",
      " 21%|██▏       | 32/149 [00:15<00:55,  2.10it/s]"
     ]
    },
    {
     "name": "stdout",
     "output_type": "stream",
     "text": [
      "RMSE: 67760.946493\n"
     ]
    },
    {
     "name": "stderr",
     "output_type": "stream",
     "text": [
      "C:\\Users\\kangk\\AppData\\Local\\Temp\\ipykernel_43032\\1448372757.py:11: DataConversionWarning: A column-vector y was passed when a 1d array was expected. Please change the shape of y to (n_samples,), for example using ravel().\n",
      "  rf.fit(X_train_std, y_train_std)\n",
      " 22%|██▏       | 33/149 [00:15<00:55,  2.09it/s]"
     ]
    },
    {
     "name": "stdout",
     "output_type": "stream",
     "text": [
      "RMSE: 69437.141311\n"
     ]
    },
    {
     "name": "stderr",
     "output_type": "stream",
     "text": [
      "C:\\Users\\kangk\\AppData\\Local\\Temp\\ipykernel_43032\\1448372757.py:11: DataConversionWarning: A column-vector y was passed when a 1d array was expected. Please change the shape of y to (n_samples,), for example using ravel().\n",
      "  rf.fit(X_train_std, y_train_std)\n",
      " 23%|██▎       | 34/149 [00:16<00:55,  2.09it/s]"
     ]
    },
    {
     "name": "stdout",
     "output_type": "stream",
     "text": [
      "RMSE: 67821.754138\n"
     ]
    },
    {
     "name": "stderr",
     "output_type": "stream",
     "text": [
      "C:\\Users\\kangk\\AppData\\Local\\Temp\\ipykernel_43032\\1448372757.py:11: DataConversionWarning: A column-vector y was passed when a 1d array was expected. Please change the shape of y to (n_samples,), for example using ravel().\n",
      "  rf.fit(X_train_std, y_train_std)\n",
      " 23%|██▎       | 35/149 [00:16<00:54,  2.10it/s]"
     ]
    },
    {
     "name": "stdout",
     "output_type": "stream",
     "text": [
      "RMSE: 68590.156617\n"
     ]
    },
    {
     "name": "stderr",
     "output_type": "stream",
     "text": [
      "C:\\Users\\kangk\\AppData\\Local\\Temp\\ipykernel_43032\\1448372757.py:11: DataConversionWarning: A column-vector y was passed when a 1d array was expected. Please change the shape of y to (n_samples,), for example using ravel().\n",
      "  rf.fit(X_train_std, y_train_std)\n",
      " 24%|██▍       | 36/149 [00:17<00:53,  2.09it/s]"
     ]
    },
    {
     "name": "stdout",
     "output_type": "stream",
     "text": [
      "RMSE: 68179.416708\n"
     ]
    },
    {
     "name": "stderr",
     "output_type": "stream",
     "text": [
      "C:\\Users\\kangk\\AppData\\Local\\Temp\\ipykernel_43032\\1448372757.py:11: DataConversionWarning: A column-vector y was passed when a 1d array was expected. Please change the shape of y to (n_samples,), for example using ravel().\n",
      "  rf.fit(X_train_std, y_train_std)\n",
      " 25%|██▍       | 37/149 [00:17<00:53,  2.08it/s]"
     ]
    },
    {
     "name": "stdout",
     "output_type": "stream",
     "text": [
      "RMSE: 68955.308837\n"
     ]
    },
    {
     "name": "stderr",
     "output_type": "stream",
     "text": [
      "C:\\Users\\kangk\\AppData\\Local\\Temp\\ipykernel_43032\\1448372757.py:11: DataConversionWarning: A column-vector y was passed when a 1d array was expected. Please change the shape of y to (n_samples,), for example using ravel().\n",
      "  rf.fit(X_train_std, y_train_std)\n",
      " 26%|██▌       | 38/149 [00:18<00:52,  2.10it/s]"
     ]
    },
    {
     "name": "stdout",
     "output_type": "stream",
     "text": [
      "RMSE: 68646.659581\n"
     ]
    },
    {
     "name": "stderr",
     "output_type": "stream",
     "text": [
      "C:\\Users\\kangk\\AppData\\Local\\Temp\\ipykernel_43032\\1448372757.py:11: DataConversionWarning: A column-vector y was passed when a 1d array was expected. Please change the shape of y to (n_samples,), for example using ravel().\n",
      "  rf.fit(X_train_std, y_train_std)\n",
      " 26%|██▌       | 39/149 [00:18<00:52,  2.10it/s]"
     ]
    },
    {
     "name": "stdout",
     "output_type": "stream",
     "text": [
      "RMSE: 68783.524637\n"
     ]
    },
    {
     "name": "stderr",
     "output_type": "stream",
     "text": [
      "C:\\Users\\kangk\\AppData\\Local\\Temp\\ipykernel_43032\\1448372757.py:11: DataConversionWarning: A column-vector y was passed when a 1d array was expected. Please change the shape of y to (n_samples,), for example using ravel().\n",
      "  rf.fit(X_train_std, y_train_std)\n",
      " 27%|██▋       | 40/149 [00:19<00:51,  2.11it/s]"
     ]
    },
    {
     "name": "stdout",
     "output_type": "stream",
     "text": [
      "RMSE: 67660.240050\n"
     ]
    },
    {
     "name": "stderr",
     "output_type": "stream",
     "text": [
      "C:\\Users\\kangk\\AppData\\Local\\Temp\\ipykernel_43032\\1448372757.py:11: DataConversionWarning: A column-vector y was passed when a 1d array was expected. Please change the shape of y to (n_samples,), for example using ravel().\n",
      "  rf.fit(X_train_std, y_train_std)\n",
      " 28%|██▊       | 41/149 [00:19<00:51,  2.11it/s]"
     ]
    },
    {
     "name": "stdout",
     "output_type": "stream",
     "text": [
      "RMSE: 67932.826911\n"
     ]
    },
    {
     "name": "stderr",
     "output_type": "stream",
     "text": [
      "C:\\Users\\kangk\\AppData\\Local\\Temp\\ipykernel_43032\\1448372757.py:11: DataConversionWarning: A column-vector y was passed when a 1d array was expected. Please change the shape of y to (n_samples,), for example using ravel().\n",
      "  rf.fit(X_train_std, y_train_std)\n",
      " 28%|██▊       | 42/149 [00:20<00:50,  2.10it/s]"
     ]
    },
    {
     "name": "stdout",
     "output_type": "stream",
     "text": [
      "RMSE: 68740.601571\n"
     ]
    },
    {
     "name": "stderr",
     "output_type": "stream",
     "text": [
      "C:\\Users\\kangk\\AppData\\Local\\Temp\\ipykernel_43032\\1448372757.py:11: DataConversionWarning: A column-vector y was passed when a 1d array was expected. Please change the shape of y to (n_samples,), for example using ravel().\n",
      "  rf.fit(X_train_std, y_train_std)\n",
      " 29%|██▉       | 43/149 [00:20<00:51,  2.07it/s]"
     ]
    },
    {
     "name": "stdout",
     "output_type": "stream",
     "text": [
      "RMSE: 67767.462459\n"
     ]
    },
    {
     "name": "stderr",
     "output_type": "stream",
     "text": [
      "C:\\Users\\kangk\\AppData\\Local\\Temp\\ipykernel_43032\\1448372757.py:11: DataConversionWarning: A column-vector y was passed when a 1d array was expected. Please change the shape of y to (n_samples,), for example using ravel().\n",
      "  rf.fit(X_train_std, y_train_std)\n",
      " 30%|██▉       | 44/149 [00:21<00:51,  2.05it/s]"
     ]
    },
    {
     "name": "stdout",
     "output_type": "stream",
     "text": [
      "RMSE: 68005.262560\n"
     ]
    },
    {
     "name": "stderr",
     "output_type": "stream",
     "text": [
      "C:\\Users\\kangk\\AppData\\Local\\Temp\\ipykernel_43032\\1448372757.py:11: DataConversionWarning: A column-vector y was passed when a 1d array was expected. Please change the shape of y to (n_samples,), for example using ravel().\n",
      "  rf.fit(X_train_std, y_train_std)\n",
      " 30%|███       | 45/149 [00:21<00:50,  2.07it/s]"
     ]
    },
    {
     "name": "stdout",
     "output_type": "stream",
     "text": [
      "RMSE: 67908.023586\n"
     ]
    },
    {
     "name": "stderr",
     "output_type": "stream",
     "text": [
      "C:\\Users\\kangk\\AppData\\Local\\Temp\\ipykernel_43032\\1448372757.py:11: DataConversionWarning: A column-vector y was passed when a 1d array was expected. Please change the shape of y to (n_samples,), for example using ravel().\n",
      "  rf.fit(X_train_std, y_train_std)\n",
      " 31%|███       | 46/149 [00:22<00:49,  2.08it/s]"
     ]
    },
    {
     "name": "stdout",
     "output_type": "stream",
     "text": [
      "RMSE: 68497.548793\n"
     ]
    },
    {
     "name": "stderr",
     "output_type": "stream",
     "text": [
      "C:\\Users\\kangk\\AppData\\Local\\Temp\\ipykernel_43032\\1448372757.py:11: DataConversionWarning: A column-vector y was passed when a 1d array was expected. Please change the shape of y to (n_samples,), for example using ravel().\n",
      "  rf.fit(X_train_std, y_train_std)\n",
      " 32%|███▏      | 47/149 [00:22<00:49,  2.07it/s]"
     ]
    },
    {
     "name": "stdout",
     "output_type": "stream",
     "text": [
      "RMSE: 69532.595981\n"
     ]
    },
    {
     "name": "stderr",
     "output_type": "stream",
     "text": [
      "C:\\Users\\kangk\\AppData\\Local\\Temp\\ipykernel_43032\\1448372757.py:11: DataConversionWarning: A column-vector y was passed when a 1d array was expected. Please change the shape of y to (n_samples,), for example using ravel().\n",
      "  rf.fit(X_train_std, y_train_std)\n",
      " 32%|███▏      | 48/149 [00:23<00:49,  2.04it/s]"
     ]
    },
    {
     "name": "stdout",
     "output_type": "stream",
     "text": [
      "RMSE: 68041.515168\n"
     ]
    },
    {
     "name": "stderr",
     "output_type": "stream",
     "text": [
      "C:\\Users\\kangk\\AppData\\Local\\Temp\\ipykernel_43032\\1448372757.py:11: DataConversionWarning: A column-vector y was passed when a 1d array was expected. Please change the shape of y to (n_samples,), for example using ravel().\n",
      "  rf.fit(X_train_std, y_train_std)\n",
      " 33%|███▎      | 49/149 [00:23<00:48,  2.04it/s]"
     ]
    },
    {
     "name": "stdout",
     "output_type": "stream",
     "text": [
      "RMSE: 68488.608032\n"
     ]
    },
    {
     "name": "stderr",
     "output_type": "stream",
     "text": [
      "C:\\Users\\kangk\\AppData\\Local\\Temp\\ipykernel_43032\\1448372757.py:11: DataConversionWarning: A column-vector y was passed when a 1d array was expected. Please change the shape of y to (n_samples,), for example using ravel().\n",
      "  rf.fit(X_train_std, y_train_std)\n",
      " 34%|███▎      | 50/149 [00:24<00:48,  2.06it/s]"
     ]
    },
    {
     "name": "stdout",
     "output_type": "stream",
     "text": [
      "RMSE: 68015.988085\n"
     ]
    },
    {
     "name": "stderr",
     "output_type": "stream",
     "text": [
      "C:\\Users\\kangk\\AppData\\Local\\Temp\\ipykernel_43032\\1448372757.py:11: DataConversionWarning: A column-vector y was passed when a 1d array was expected. Please change the shape of y to (n_samples,), for example using ravel().\n",
      "  rf.fit(X_train_std, y_train_std)\n",
      " 34%|███▍      | 51/149 [00:24<00:47,  2.05it/s]"
     ]
    },
    {
     "name": "stdout",
     "output_type": "stream",
     "text": [
      "RMSE: 68802.937509\n"
     ]
    },
    {
     "name": "stderr",
     "output_type": "stream",
     "text": [
      "C:\\Users\\kangk\\AppData\\Local\\Temp\\ipykernel_43032\\1448372757.py:11: DataConversionWarning: A column-vector y was passed when a 1d array was expected. Please change the shape of y to (n_samples,), for example using ravel().\n",
      "  rf.fit(X_train_std, y_train_std)\n",
      " 35%|███▍      | 52/149 [00:25<00:47,  2.05it/s]"
     ]
    },
    {
     "name": "stdout",
     "output_type": "stream",
     "text": [
      "RMSE: 67396.676229\n"
     ]
    },
    {
     "name": "stderr",
     "output_type": "stream",
     "text": [
      "C:\\Users\\kangk\\AppData\\Local\\Temp\\ipykernel_43032\\1448372757.py:11: DataConversionWarning: A column-vector y was passed when a 1d array was expected. Please change the shape of y to (n_samples,), for example using ravel().\n",
      "  rf.fit(X_train_std, y_train_std)\n",
      " 36%|███▌      | 53/149 [00:25<00:47,  2.03it/s]"
     ]
    },
    {
     "name": "stdout",
     "output_type": "stream",
     "text": [
      "RMSE: 68266.896318\n"
     ]
    },
    {
     "name": "stderr",
     "output_type": "stream",
     "text": [
      "C:\\Users\\kangk\\AppData\\Local\\Temp\\ipykernel_43032\\1448372757.py:11: DataConversionWarning: A column-vector y was passed when a 1d array was expected. Please change the shape of y to (n_samples,), for example using ravel().\n",
      "  rf.fit(X_train_std, y_train_std)\n",
      " 36%|███▌      | 54/149 [00:25<00:46,  2.04it/s]"
     ]
    },
    {
     "name": "stdout",
     "output_type": "stream",
     "text": [
      "RMSE: 69083.951903\n"
     ]
    },
    {
     "name": "stderr",
     "output_type": "stream",
     "text": [
      "C:\\Users\\kangk\\AppData\\Local\\Temp\\ipykernel_43032\\1448372757.py:11: DataConversionWarning: A column-vector y was passed when a 1d array was expected. Please change the shape of y to (n_samples,), for example using ravel().\n",
      "  rf.fit(X_train_std, y_train_std)\n",
      " 37%|███▋      | 55/149 [00:26<00:48,  1.96it/s]"
     ]
    },
    {
     "name": "stdout",
     "output_type": "stream",
     "text": [
      "RMSE: 68032.461256\n"
     ]
    },
    {
     "name": "stderr",
     "output_type": "stream",
     "text": [
      "C:\\Users\\kangk\\AppData\\Local\\Temp\\ipykernel_43032\\1448372757.py:11: DataConversionWarning: A column-vector y was passed when a 1d array was expected. Please change the shape of y to (n_samples,), for example using ravel().\n",
      "  rf.fit(X_train_std, y_train_std)\n",
      " 38%|███▊      | 56/149 [00:27<00:46,  1.98it/s]"
     ]
    },
    {
     "name": "stdout",
     "output_type": "stream",
     "text": [
      "RMSE: 68430.537994\n"
     ]
    },
    {
     "name": "stderr",
     "output_type": "stream",
     "text": [
      "C:\\Users\\kangk\\AppData\\Local\\Temp\\ipykernel_43032\\1448372757.py:11: DataConversionWarning: A column-vector y was passed when a 1d array was expected. Please change the shape of y to (n_samples,), for example using ravel().\n",
      "  rf.fit(X_train_std, y_train_std)\n",
      " 38%|███▊      | 57/149 [00:27<00:45,  2.00it/s]"
     ]
    },
    {
     "name": "stdout",
     "output_type": "stream",
     "text": [
      "RMSE: 68436.431548\n"
     ]
    },
    {
     "name": "stderr",
     "output_type": "stream",
     "text": [
      "C:\\Users\\kangk\\AppData\\Local\\Temp\\ipykernel_43032\\1448372757.py:11: DataConversionWarning: A column-vector y was passed when a 1d array was expected. Please change the shape of y to (n_samples,), for example using ravel().\n",
      "  rf.fit(X_train_std, y_train_std)\n",
      " 39%|███▉      | 58/149 [00:28<00:45,  2.01it/s]"
     ]
    },
    {
     "name": "stdout",
     "output_type": "stream",
     "text": [
      "RMSE: 68856.427538\n"
     ]
    },
    {
     "name": "stderr",
     "output_type": "stream",
     "text": [
      "C:\\Users\\kangk\\AppData\\Local\\Temp\\ipykernel_43032\\1448372757.py:11: DataConversionWarning: A column-vector y was passed when a 1d array was expected. Please change the shape of y to (n_samples,), for example using ravel().\n",
      "  rf.fit(X_train_std, y_train_std)\n",
      " 40%|███▉      | 59/149 [00:28<00:43,  2.05it/s]"
     ]
    },
    {
     "name": "stdout",
     "output_type": "stream",
     "text": [
      "RMSE: 68803.480570\n"
     ]
    },
    {
     "name": "stderr",
     "output_type": "stream",
     "text": [
      "C:\\Users\\kangk\\AppData\\Local\\Temp\\ipykernel_43032\\1448372757.py:11: DataConversionWarning: A column-vector y was passed when a 1d array was expected. Please change the shape of y to (n_samples,), for example using ravel().\n",
      "  rf.fit(X_train_std, y_train_std)\n",
      " 40%|████      | 60/149 [00:28<00:42,  2.07it/s]"
     ]
    },
    {
     "name": "stdout",
     "output_type": "stream",
     "text": [
      "RMSE: 68307.261743\n"
     ]
    },
    {
     "name": "stderr",
     "output_type": "stream",
     "text": [
      "C:\\Users\\kangk\\AppData\\Local\\Temp\\ipykernel_43032\\1448372757.py:11: DataConversionWarning: A column-vector y was passed when a 1d array was expected. Please change the shape of y to (n_samples,), for example using ravel().\n",
      "  rf.fit(X_train_std, y_train_std)\n",
      " 41%|████      | 61/149 [00:29<00:42,  2.09it/s]"
     ]
    },
    {
     "name": "stdout",
     "output_type": "stream",
     "text": [
      "RMSE: 68970.158179\n"
     ]
    },
    {
     "name": "stderr",
     "output_type": "stream",
     "text": [
      "C:\\Users\\kangk\\AppData\\Local\\Temp\\ipykernel_43032\\1448372757.py:11: DataConversionWarning: A column-vector y was passed when a 1d array was expected. Please change the shape of y to (n_samples,), for example using ravel().\n",
      "  rf.fit(X_train_std, y_train_std)\n",
      " 42%|████▏     | 62/149 [00:29<00:41,  2.09it/s]"
     ]
    },
    {
     "name": "stdout",
     "output_type": "stream",
     "text": [
      "RMSE: 67892.118273\n"
     ]
    },
    {
     "name": "stderr",
     "output_type": "stream",
     "text": [
      "C:\\Users\\kangk\\AppData\\Local\\Temp\\ipykernel_43032\\1448372757.py:11: DataConversionWarning: A column-vector y was passed when a 1d array was expected. Please change the shape of y to (n_samples,), for example using ravel().\n",
      "  rf.fit(X_train_std, y_train_std)\n",
      " 42%|████▏     | 63/149 [00:30<00:40,  2.11it/s]"
     ]
    },
    {
     "name": "stdout",
     "output_type": "stream",
     "text": [
      "RMSE: 68328.805157\n"
     ]
    },
    {
     "name": "stderr",
     "output_type": "stream",
     "text": [
      "C:\\Users\\kangk\\AppData\\Local\\Temp\\ipykernel_43032\\1448372757.py:11: DataConversionWarning: A column-vector y was passed when a 1d array was expected. Please change the shape of y to (n_samples,), for example using ravel().\n",
      "  rf.fit(X_train_std, y_train_std)\n",
      " 43%|████▎     | 64/149 [00:30<00:41,  2.07it/s]"
     ]
    },
    {
     "name": "stdout",
     "output_type": "stream",
     "text": [
      "RMSE: 68710.550845\n"
     ]
    },
    {
     "name": "stderr",
     "output_type": "stream",
     "text": [
      "C:\\Users\\kangk\\AppData\\Local\\Temp\\ipykernel_43032\\1448372757.py:11: DataConversionWarning: A column-vector y was passed when a 1d array was expected. Please change the shape of y to (n_samples,), for example using ravel().\n",
      "  rf.fit(X_train_std, y_train_std)\n",
      " 44%|████▎     | 65/149 [00:31<00:40,  2.08it/s]"
     ]
    },
    {
     "name": "stdout",
     "output_type": "stream",
     "text": [
      "RMSE: 68197.115286\n"
     ]
    },
    {
     "name": "stderr",
     "output_type": "stream",
     "text": [
      "C:\\Users\\kangk\\AppData\\Local\\Temp\\ipykernel_43032\\1448372757.py:11: DataConversionWarning: A column-vector y was passed when a 1d array was expected. Please change the shape of y to (n_samples,), for example using ravel().\n",
      "  rf.fit(X_train_std, y_train_std)\n",
      " 44%|████▍     | 66/149 [00:31<00:39,  2.08it/s]"
     ]
    },
    {
     "name": "stdout",
     "output_type": "stream",
     "text": [
      "RMSE: 67439.183309\n"
     ]
    },
    {
     "name": "stderr",
     "output_type": "stream",
     "text": [
      "C:\\Users\\kangk\\AppData\\Local\\Temp\\ipykernel_43032\\1448372757.py:11: DataConversionWarning: A column-vector y was passed when a 1d array was expected. Please change the shape of y to (n_samples,), for example using ravel().\n",
      "  rf.fit(X_train_std, y_train_std)\n",
      " 45%|████▍     | 67/149 [00:32<00:39,  2.07it/s]"
     ]
    },
    {
     "name": "stdout",
     "output_type": "stream",
     "text": [
      "RMSE: 67573.822960\n"
     ]
    },
    {
     "name": "stderr",
     "output_type": "stream",
     "text": [
      "C:\\Users\\kangk\\AppData\\Local\\Temp\\ipykernel_43032\\1448372757.py:11: DataConversionWarning: A column-vector y was passed when a 1d array was expected. Please change the shape of y to (n_samples,), for example using ravel().\n",
      "  rf.fit(X_train_std, y_train_std)\n",
      " 46%|████▌     | 68/149 [00:32<00:41,  1.96it/s]"
     ]
    },
    {
     "name": "stdout",
     "output_type": "stream",
     "text": [
      "RMSE: 67897.466049\n"
     ]
    },
    {
     "name": "stderr",
     "output_type": "stream",
     "text": [
      "C:\\Users\\kangk\\AppData\\Local\\Temp\\ipykernel_43032\\1448372757.py:11: DataConversionWarning: A column-vector y was passed when a 1d array was expected. Please change the shape of y to (n_samples,), for example using ravel().\n",
      "  rf.fit(X_train_std, y_train_std)\n",
      " 46%|████▋     | 69/149 [00:33<00:41,  1.92it/s]"
     ]
    },
    {
     "name": "stdout",
     "output_type": "stream",
     "text": [
      "RMSE: 67993.808766\n"
     ]
    },
    {
     "name": "stderr",
     "output_type": "stream",
     "text": [
      "C:\\Users\\kangk\\AppData\\Local\\Temp\\ipykernel_43032\\1448372757.py:11: DataConversionWarning: A column-vector y was passed when a 1d array was expected. Please change the shape of y to (n_samples,), for example using ravel().\n",
      "  rf.fit(X_train_std, y_train_std)\n",
      " 47%|████▋     | 70/149 [00:33<00:41,  1.92it/s]"
     ]
    },
    {
     "name": "stdout",
     "output_type": "stream",
     "text": [
      "RMSE: 69309.476959\n"
     ]
    },
    {
     "name": "stderr",
     "output_type": "stream",
     "text": [
      "C:\\Users\\kangk\\AppData\\Local\\Temp\\ipykernel_43032\\1448372757.py:11: DataConversionWarning: A column-vector y was passed when a 1d array was expected. Please change the shape of y to (n_samples,), for example using ravel().\n",
      "  rf.fit(X_train_std, y_train_std)\n",
      " 48%|████▊     | 71/149 [00:34<00:39,  1.96it/s]"
     ]
    },
    {
     "name": "stdout",
     "output_type": "stream",
     "text": [
      "RMSE: 67938.576128\n"
     ]
    },
    {
     "name": "stderr",
     "output_type": "stream",
     "text": [
      "C:\\Users\\kangk\\AppData\\Local\\Temp\\ipykernel_43032\\1448372757.py:11: DataConversionWarning: A column-vector y was passed when a 1d array was expected. Please change the shape of y to (n_samples,), for example using ravel().\n",
      "  rf.fit(X_train_std, y_train_std)\n",
      " 48%|████▊     | 72/149 [00:34<00:39,  1.97it/s]"
     ]
    },
    {
     "name": "stdout",
     "output_type": "stream",
     "text": [
      "RMSE: 67703.518139\n"
     ]
    },
    {
     "name": "stderr",
     "output_type": "stream",
     "text": [
      "C:\\Users\\kangk\\AppData\\Local\\Temp\\ipykernel_43032\\1448372757.py:11: DataConversionWarning: A column-vector y was passed when a 1d array was expected. Please change the shape of y to (n_samples,), for example using ravel().\n",
      "  rf.fit(X_train_std, y_train_std)\n",
      " 49%|████▉     | 73/149 [00:35<00:37,  2.01it/s]"
     ]
    },
    {
     "name": "stdout",
     "output_type": "stream",
     "text": [
      "RMSE: 67506.648213\n"
     ]
    },
    {
     "name": "stderr",
     "output_type": "stream",
     "text": [
      "C:\\Users\\kangk\\AppData\\Local\\Temp\\ipykernel_43032\\1448372757.py:11: DataConversionWarning: A column-vector y was passed when a 1d array was expected. Please change the shape of y to (n_samples,), for example using ravel().\n",
      "  rf.fit(X_train_std, y_train_std)\n",
      " 50%|████▉     | 74/149 [00:35<00:37,  2.01it/s]"
     ]
    },
    {
     "name": "stdout",
     "output_type": "stream",
     "text": [
      "RMSE: 67633.604176\n"
     ]
    },
    {
     "name": "stderr",
     "output_type": "stream",
     "text": [
      "C:\\Users\\kangk\\AppData\\Local\\Temp\\ipykernel_43032\\1448372757.py:11: DataConversionWarning: A column-vector y was passed when a 1d array was expected. Please change the shape of y to (n_samples,), for example using ravel().\n",
      "  rf.fit(X_train_std, y_train_std)\n",
      " 50%|█████     | 75/149 [00:36<00:37,  2.00it/s]"
     ]
    },
    {
     "name": "stdout",
     "output_type": "stream",
     "text": [
      "RMSE: 67547.579780\n"
     ]
    },
    {
     "name": "stderr",
     "output_type": "stream",
     "text": [
      "C:\\Users\\kangk\\AppData\\Local\\Temp\\ipykernel_43032\\1448372757.py:11: DataConversionWarning: A column-vector y was passed when a 1d array was expected. Please change the shape of y to (n_samples,), for example using ravel().\n",
      "  rf.fit(X_train_std, y_train_std)\n",
      " 51%|█████     | 76/149 [00:36<00:36,  1.98it/s]"
     ]
    },
    {
     "name": "stdout",
     "output_type": "stream",
     "text": [
      "RMSE: 67998.541279\n"
     ]
    },
    {
     "name": "stderr",
     "output_type": "stream",
     "text": [
      "C:\\Users\\kangk\\AppData\\Local\\Temp\\ipykernel_43032\\1448372757.py:11: DataConversionWarning: A column-vector y was passed when a 1d array was expected. Please change the shape of y to (n_samples,), for example using ravel().\n",
      "  rf.fit(X_train_std, y_train_std)\n",
      " 52%|█████▏    | 77/149 [00:37<00:36,  1.95it/s]"
     ]
    },
    {
     "name": "stdout",
     "output_type": "stream",
     "text": [
      "RMSE: 68849.041395\n"
     ]
    },
    {
     "name": "stderr",
     "output_type": "stream",
     "text": [
      "C:\\Users\\kangk\\AppData\\Local\\Temp\\ipykernel_43032\\1448372757.py:11: DataConversionWarning: A column-vector y was passed when a 1d array was expected. Please change the shape of y to (n_samples,), for example using ravel().\n",
      "  rf.fit(X_train_std, y_train_std)\n",
      " 52%|█████▏    | 78/149 [00:37<00:36,  1.95it/s]"
     ]
    },
    {
     "name": "stdout",
     "output_type": "stream",
     "text": [
      "RMSE: 68334.036628\n"
     ]
    },
    {
     "name": "stderr",
     "output_type": "stream",
     "text": [
      "C:\\Users\\kangk\\AppData\\Local\\Temp\\ipykernel_43032\\1448372757.py:11: DataConversionWarning: A column-vector y was passed when a 1d array was expected. Please change the shape of y to (n_samples,), for example using ravel().\n",
      "  rf.fit(X_train_std, y_train_std)\n",
      " 53%|█████▎    | 79/149 [00:38<00:35,  1.97it/s]"
     ]
    },
    {
     "name": "stdout",
     "output_type": "stream",
     "text": [
      "RMSE: 68451.457011\n"
     ]
    },
    {
     "name": "stderr",
     "output_type": "stream",
     "text": [
      "C:\\Users\\kangk\\AppData\\Local\\Temp\\ipykernel_43032\\1448372757.py:11: DataConversionWarning: A column-vector y was passed when a 1d array was expected. Please change the shape of y to (n_samples,), for example using ravel().\n",
      "  rf.fit(X_train_std, y_train_std)\n",
      " 54%|█████▎    | 80/149 [00:38<00:35,  1.96it/s]"
     ]
    },
    {
     "name": "stdout",
     "output_type": "stream",
     "text": [
      "RMSE: 69120.623153\n"
     ]
    },
    {
     "name": "stderr",
     "output_type": "stream",
     "text": [
      "C:\\Users\\kangk\\AppData\\Local\\Temp\\ipykernel_43032\\1448372757.py:11: DataConversionWarning: A column-vector y was passed when a 1d array was expected. Please change the shape of y to (n_samples,), for example using ravel().\n",
      "  rf.fit(X_train_std, y_train_std)\n",
      " 54%|█████▍    | 81/149 [00:39<00:33,  2.00it/s]"
     ]
    },
    {
     "name": "stdout",
     "output_type": "stream",
     "text": [
      "RMSE: 68521.689255\n"
     ]
    },
    {
     "name": "stderr",
     "output_type": "stream",
     "text": [
      "C:\\Users\\kangk\\AppData\\Local\\Temp\\ipykernel_43032\\1448372757.py:11: DataConversionWarning: A column-vector y was passed when a 1d array was expected. Please change the shape of y to (n_samples,), for example using ravel().\n",
      "  rf.fit(X_train_std, y_train_std)\n",
      " 55%|█████▌    | 82/149 [00:39<00:33,  2.01it/s]"
     ]
    },
    {
     "name": "stdout",
     "output_type": "stream",
     "text": [
      "RMSE: 68353.338114\n"
     ]
    },
    {
     "name": "stderr",
     "output_type": "stream",
     "text": [
      "C:\\Users\\kangk\\AppData\\Local\\Temp\\ipykernel_43032\\1448372757.py:11: DataConversionWarning: A column-vector y was passed when a 1d array was expected. Please change the shape of y to (n_samples,), for example using ravel().\n",
      "  rf.fit(X_train_std, y_train_std)\n",
      " 56%|█████▌    | 83/149 [00:40<00:32,  2.03it/s]"
     ]
    },
    {
     "name": "stdout",
     "output_type": "stream",
     "text": [
      "RMSE: 68418.865291\n"
     ]
    },
    {
     "name": "stderr",
     "output_type": "stream",
     "text": [
      "C:\\Users\\kangk\\AppData\\Local\\Temp\\ipykernel_43032\\1448372757.py:11: DataConversionWarning: A column-vector y was passed when a 1d array was expected. Please change the shape of y to (n_samples,), for example using ravel().\n",
      "  rf.fit(X_train_std, y_train_std)\n",
      " 56%|█████▋    | 84/149 [00:40<00:31,  2.06it/s]"
     ]
    },
    {
     "name": "stdout",
     "output_type": "stream",
     "text": [
      "RMSE: 68427.528768\n"
     ]
    },
    {
     "name": "stderr",
     "output_type": "stream",
     "text": [
      "C:\\Users\\kangk\\AppData\\Local\\Temp\\ipykernel_43032\\1448372757.py:11: DataConversionWarning: A column-vector y was passed when a 1d array was expected. Please change the shape of y to (n_samples,), for example using ravel().\n",
      "  rf.fit(X_train_std, y_train_std)\n",
      " 57%|█████▋    | 85/149 [00:41<00:30,  2.08it/s]"
     ]
    },
    {
     "name": "stdout",
     "output_type": "stream",
     "text": [
      "RMSE: 67999.278521\n"
     ]
    },
    {
     "name": "stderr",
     "output_type": "stream",
     "text": [
      "C:\\Users\\kangk\\AppData\\Local\\Temp\\ipykernel_43032\\1448372757.py:11: DataConversionWarning: A column-vector y was passed when a 1d array was expected. Please change the shape of y to (n_samples,), for example using ravel().\n",
      "  rf.fit(X_train_std, y_train_std)\n",
      " 58%|█████▊    | 86/149 [00:41<00:30,  2.06it/s]"
     ]
    },
    {
     "name": "stdout",
     "output_type": "stream",
     "text": [
      "RMSE: 67999.644854\n"
     ]
    },
    {
     "name": "stderr",
     "output_type": "stream",
     "text": [
      "C:\\Users\\kangk\\AppData\\Local\\Temp\\ipykernel_43032\\1448372757.py:11: DataConversionWarning: A column-vector y was passed when a 1d array was expected. Please change the shape of y to (n_samples,), for example using ravel().\n",
      "  rf.fit(X_train_std, y_train_std)\n",
      " 58%|█████▊    | 87/149 [00:42<00:30,  2.05it/s]"
     ]
    },
    {
     "name": "stdout",
     "output_type": "stream",
     "text": [
      "RMSE: 69155.155713\n"
     ]
    },
    {
     "name": "stderr",
     "output_type": "stream",
     "text": [
      "C:\\Users\\kangk\\AppData\\Local\\Temp\\ipykernel_43032\\1448372757.py:11: DataConversionWarning: A column-vector y was passed when a 1d array was expected. Please change the shape of y to (n_samples,), for example using ravel().\n",
      "  rf.fit(X_train_std, y_train_std)\n",
      " 59%|█████▉    | 88/149 [00:42<00:29,  2.05it/s]"
     ]
    },
    {
     "name": "stdout",
     "output_type": "stream",
     "text": [
      "RMSE: 68513.675899\n"
     ]
    },
    {
     "name": "stderr",
     "output_type": "stream",
     "text": [
      "C:\\Users\\kangk\\AppData\\Local\\Temp\\ipykernel_43032\\1448372757.py:11: DataConversionWarning: A column-vector y was passed when a 1d array was expected. Please change the shape of y to (n_samples,), for example using ravel().\n",
      "  rf.fit(X_train_std, y_train_std)\n",
      " 60%|█████▉    | 89/149 [00:43<00:29,  2.04it/s]"
     ]
    },
    {
     "name": "stdout",
     "output_type": "stream",
     "text": [
      "RMSE: 67593.129767\n"
     ]
    },
    {
     "name": "stderr",
     "output_type": "stream",
     "text": [
      "C:\\Users\\kangk\\AppData\\Local\\Temp\\ipykernel_43032\\1448372757.py:11: DataConversionWarning: A column-vector y was passed when a 1d array was expected. Please change the shape of y to (n_samples,), for example using ravel().\n",
      "  rf.fit(X_train_std, y_train_std)\n",
      " 60%|██████    | 90/149 [00:43<00:28,  2.05it/s]"
     ]
    },
    {
     "name": "stdout",
     "output_type": "stream",
     "text": [
      "RMSE: 68186.047747\n"
     ]
    },
    {
     "name": "stderr",
     "output_type": "stream",
     "text": [
      "C:\\Users\\kangk\\AppData\\Local\\Temp\\ipykernel_43032\\1448372757.py:11: DataConversionWarning: A column-vector y was passed when a 1d array was expected. Please change the shape of y to (n_samples,), for example using ravel().\n",
      "  rf.fit(X_train_std, y_train_std)\n",
      " 61%|██████    | 91/149 [00:44<00:28,  2.06it/s]"
     ]
    },
    {
     "name": "stdout",
     "output_type": "stream",
     "text": [
      "RMSE: 68293.074011\n"
     ]
    },
    {
     "name": "stderr",
     "output_type": "stream",
     "text": [
      "C:\\Users\\kangk\\AppData\\Local\\Temp\\ipykernel_43032\\1448372757.py:11: DataConversionWarning: A column-vector y was passed when a 1d array was expected. Please change the shape of y to (n_samples,), for example using ravel().\n",
      "  rf.fit(X_train_std, y_train_std)\n",
      " 62%|██████▏   | 92/149 [00:44<00:27,  2.07it/s]"
     ]
    },
    {
     "name": "stdout",
     "output_type": "stream",
     "text": [
      "RMSE: 68678.320307\n"
     ]
    },
    {
     "name": "stderr",
     "output_type": "stream",
     "text": [
      "C:\\Users\\kangk\\AppData\\Local\\Temp\\ipykernel_43032\\1448372757.py:11: DataConversionWarning: A column-vector y was passed when a 1d array was expected. Please change the shape of y to (n_samples,), for example using ravel().\n",
      "  rf.fit(X_train_std, y_train_std)\n",
      " 62%|██████▏   | 93/149 [00:45<00:27,  2.05it/s]"
     ]
    },
    {
     "name": "stdout",
     "output_type": "stream",
     "text": [
      "RMSE: 67102.021357\n"
     ]
    },
    {
     "name": "stderr",
     "output_type": "stream",
     "text": [
      "C:\\Users\\kangk\\AppData\\Local\\Temp\\ipykernel_43032\\1448372757.py:11: DataConversionWarning: A column-vector y was passed when a 1d array was expected. Please change the shape of y to (n_samples,), for example using ravel().\n",
      "  rf.fit(X_train_std, y_train_std)\n",
      " 63%|██████▎   | 94/149 [00:45<00:27,  2.02it/s]"
     ]
    },
    {
     "name": "stdout",
     "output_type": "stream",
     "text": [
      "RMSE: 68872.974403\n"
     ]
    },
    {
     "name": "stderr",
     "output_type": "stream",
     "text": [
      "C:\\Users\\kangk\\AppData\\Local\\Temp\\ipykernel_43032\\1448372757.py:11: DataConversionWarning: A column-vector y was passed when a 1d array was expected. Please change the shape of y to (n_samples,), for example using ravel().\n",
      "  rf.fit(X_train_std, y_train_std)\n",
      " 64%|██████▍   | 95/149 [00:46<00:26,  2.04it/s]"
     ]
    },
    {
     "name": "stdout",
     "output_type": "stream",
     "text": [
      "RMSE: 68026.780878\n"
     ]
    },
    {
     "name": "stderr",
     "output_type": "stream",
     "text": [
      "C:\\Users\\kangk\\AppData\\Local\\Temp\\ipykernel_43032\\1448372757.py:11: DataConversionWarning: A column-vector y was passed when a 1d array was expected. Please change the shape of y to (n_samples,), for example using ravel().\n",
      "  rf.fit(X_train_std, y_train_std)\n",
      " 64%|██████▍   | 96/149 [00:46<00:26,  2.03it/s]"
     ]
    },
    {
     "name": "stdout",
     "output_type": "stream",
     "text": [
      "RMSE: 69413.778785\n"
     ]
    },
    {
     "name": "stderr",
     "output_type": "stream",
     "text": [
      "C:\\Users\\kangk\\AppData\\Local\\Temp\\ipykernel_43032\\1448372757.py:11: DataConversionWarning: A column-vector y was passed when a 1d array was expected. Please change the shape of y to (n_samples,), for example using ravel().\n",
      "  rf.fit(X_train_std, y_train_std)\n",
      " 65%|██████▌   | 97/149 [00:47<00:26,  1.99it/s]"
     ]
    },
    {
     "name": "stdout",
     "output_type": "stream",
     "text": [
      "RMSE: 68018.424117\n"
     ]
    },
    {
     "name": "stderr",
     "output_type": "stream",
     "text": [
      "C:\\Users\\kangk\\AppData\\Local\\Temp\\ipykernel_43032\\1448372757.py:11: DataConversionWarning: A column-vector y was passed when a 1d array was expected. Please change the shape of y to (n_samples,), for example using ravel().\n",
      "  rf.fit(X_train_std, y_train_std)\n",
      " 66%|██████▌   | 98/149 [00:47<00:25,  2.01it/s]"
     ]
    },
    {
     "name": "stdout",
     "output_type": "stream",
     "text": [
      "RMSE: 67920.494204\n"
     ]
    },
    {
     "name": "stderr",
     "output_type": "stream",
     "text": [
      "C:\\Users\\kangk\\AppData\\Local\\Temp\\ipykernel_43032\\1448372757.py:11: DataConversionWarning: A column-vector y was passed when a 1d array was expected. Please change the shape of y to (n_samples,), for example using ravel().\n",
      "  rf.fit(X_train_std, y_train_std)\n",
      " 66%|██████▋   | 99/149 [00:48<00:25,  2.00it/s]"
     ]
    },
    {
     "name": "stdout",
     "output_type": "stream",
     "text": [
      "RMSE: 69615.165974\n"
     ]
    },
    {
     "name": "stderr",
     "output_type": "stream",
     "text": [
      "C:\\Users\\kangk\\AppData\\Local\\Temp\\ipykernel_43032\\1448372757.py:11: DataConversionWarning: A column-vector y was passed when a 1d array was expected. Please change the shape of y to (n_samples,), for example using ravel().\n",
      "  rf.fit(X_train_std, y_train_std)\n",
      " 67%|██████▋   | 100/149 [00:48<00:25,  1.96it/s]"
     ]
    },
    {
     "name": "stdout",
     "output_type": "stream",
     "text": [
      "RMSE: 68538.148928\n"
     ]
    },
    {
     "name": "stderr",
     "output_type": "stream",
     "text": [
      "C:\\Users\\kangk\\AppData\\Local\\Temp\\ipykernel_43032\\1448372757.py:11: DataConversionWarning: A column-vector y was passed when a 1d array was expected. Please change the shape of y to (n_samples,), for example using ravel().\n",
      "  rf.fit(X_train_std, y_train_std)\n",
      " 68%|██████▊   | 101/149 [00:49<00:24,  1.97it/s]"
     ]
    },
    {
     "name": "stdout",
     "output_type": "stream",
     "text": [
      "RMSE: 68331.222437\n"
     ]
    },
    {
     "name": "stderr",
     "output_type": "stream",
     "text": [
      "C:\\Users\\kangk\\AppData\\Local\\Temp\\ipykernel_43032\\1448372757.py:11: DataConversionWarning: A column-vector y was passed when a 1d array was expected. Please change the shape of y to (n_samples,), for example using ravel().\n",
      "  rf.fit(X_train_std, y_train_std)\n",
      " 68%|██████▊   | 102/149 [00:49<00:23,  2.02it/s]"
     ]
    },
    {
     "name": "stdout",
     "output_type": "stream",
     "text": [
      "RMSE: 68092.095261\n"
     ]
    },
    {
     "name": "stderr",
     "output_type": "stream",
     "text": [
      "C:\\Users\\kangk\\AppData\\Local\\Temp\\ipykernel_43032\\1448372757.py:11: DataConversionWarning: A column-vector y was passed when a 1d array was expected. Please change the shape of y to (n_samples,), for example using ravel().\n",
      "  rf.fit(X_train_std, y_train_std)\n",
      " 69%|██████▉   | 103/149 [00:50<00:22,  2.04it/s]"
     ]
    },
    {
     "name": "stdout",
     "output_type": "stream",
     "text": [
      "RMSE: 68125.592968\n"
     ]
    },
    {
     "name": "stderr",
     "output_type": "stream",
     "text": [
      "C:\\Users\\kangk\\AppData\\Local\\Temp\\ipykernel_43032\\1448372757.py:11: DataConversionWarning: A column-vector y was passed when a 1d array was expected. Please change the shape of y to (n_samples,), for example using ravel().\n",
      "  rf.fit(X_train_std, y_train_std)\n",
      " 70%|██████▉   | 104/149 [00:50<00:21,  2.07it/s]"
     ]
    },
    {
     "name": "stdout",
     "output_type": "stream",
     "text": [
      "RMSE: 68271.516333\n"
     ]
    },
    {
     "name": "stderr",
     "output_type": "stream",
     "text": [
      "C:\\Users\\kangk\\AppData\\Local\\Temp\\ipykernel_43032\\1448372757.py:11: DataConversionWarning: A column-vector y was passed when a 1d array was expected. Please change the shape of y to (n_samples,), for example using ravel().\n",
      "  rf.fit(X_train_std, y_train_std)\n",
      " 70%|███████   | 105/149 [00:51<00:21,  2.08it/s]"
     ]
    },
    {
     "name": "stdout",
     "output_type": "stream",
     "text": [
      "RMSE: 68586.856692\n"
     ]
    },
    {
     "name": "stderr",
     "output_type": "stream",
     "text": [
      "C:\\Users\\kangk\\AppData\\Local\\Temp\\ipykernel_43032\\1448372757.py:11: DataConversionWarning: A column-vector y was passed when a 1d array was expected. Please change the shape of y to (n_samples,), for example using ravel().\n",
      "  rf.fit(X_train_std, y_train_std)\n",
      " 71%|███████   | 106/149 [00:51<00:20,  2.08it/s]"
     ]
    },
    {
     "name": "stdout",
     "output_type": "stream",
     "text": [
      "RMSE: 68048.706164\n"
     ]
    },
    {
     "name": "stderr",
     "output_type": "stream",
     "text": [
      "C:\\Users\\kangk\\AppData\\Local\\Temp\\ipykernel_43032\\1448372757.py:11: DataConversionWarning: A column-vector y was passed when a 1d array was expected. Please change the shape of y to (n_samples,), for example using ravel().\n",
      "  rf.fit(X_train_std, y_train_std)\n",
      " 72%|███████▏  | 107/149 [00:52<00:20,  2.08it/s]"
     ]
    },
    {
     "name": "stdout",
     "output_type": "stream",
     "text": [
      "RMSE: 68550.988478\n"
     ]
    },
    {
     "name": "stderr",
     "output_type": "stream",
     "text": [
      "C:\\Users\\kangk\\AppData\\Local\\Temp\\ipykernel_43032\\1448372757.py:11: DataConversionWarning: A column-vector y was passed when a 1d array was expected. Please change the shape of y to (n_samples,), for example using ravel().\n",
      "  rf.fit(X_train_std, y_train_std)\n",
      " 72%|███████▏  | 108/149 [00:52<00:19,  2.08it/s]"
     ]
    },
    {
     "name": "stdout",
     "output_type": "stream",
     "text": [
      "RMSE: 67377.559916\n"
     ]
    },
    {
     "name": "stderr",
     "output_type": "stream",
     "text": [
      "C:\\Users\\kangk\\AppData\\Local\\Temp\\ipykernel_43032\\1448372757.py:11: DataConversionWarning: A column-vector y was passed when a 1d array was expected. Please change the shape of y to (n_samples,), for example using ravel().\n",
      "  rf.fit(X_train_std, y_train_std)\n",
      " 73%|███████▎  | 109/149 [00:53<00:19,  2.07it/s]"
     ]
    },
    {
     "name": "stdout",
     "output_type": "stream",
     "text": [
      "RMSE: 67593.677355\n"
     ]
    },
    {
     "name": "stderr",
     "output_type": "stream",
     "text": [
      "C:\\Users\\kangk\\AppData\\Local\\Temp\\ipykernel_43032\\1448372757.py:11: DataConversionWarning: A column-vector y was passed when a 1d array was expected. Please change the shape of y to (n_samples,), for example using ravel().\n",
      "  rf.fit(X_train_std, y_train_std)\n",
      " 74%|███████▍  | 110/149 [00:53<00:18,  2.07it/s]"
     ]
    },
    {
     "name": "stdout",
     "output_type": "stream",
     "text": [
      "RMSE: 68292.091029\n"
     ]
    },
    {
     "name": "stderr",
     "output_type": "stream",
     "text": [
      "C:\\Users\\kangk\\AppData\\Local\\Temp\\ipykernel_43032\\1448372757.py:11: DataConversionWarning: A column-vector y was passed when a 1d array was expected. Please change the shape of y to (n_samples,), for example using ravel().\n",
      "  rf.fit(X_train_std, y_train_std)\n",
      " 74%|███████▍  | 111/149 [00:54<00:18,  2.08it/s]"
     ]
    },
    {
     "name": "stdout",
     "output_type": "stream",
     "text": [
      "RMSE: 68868.051789\n"
     ]
    },
    {
     "name": "stderr",
     "output_type": "stream",
     "text": [
      "C:\\Users\\kangk\\AppData\\Local\\Temp\\ipykernel_43032\\1448372757.py:11: DataConversionWarning: A column-vector y was passed when a 1d array was expected. Please change the shape of y to (n_samples,), for example using ravel().\n",
      "  rf.fit(X_train_std, y_train_std)\n",
      " 75%|███████▌  | 112/149 [00:54<00:17,  2.09it/s]"
     ]
    },
    {
     "name": "stdout",
     "output_type": "stream",
     "text": [
      "RMSE: 68931.239816\n"
     ]
    },
    {
     "name": "stderr",
     "output_type": "stream",
     "text": [
      "C:\\Users\\kangk\\AppData\\Local\\Temp\\ipykernel_43032\\1448372757.py:11: DataConversionWarning: A column-vector y was passed when a 1d array was expected. Please change the shape of y to (n_samples,), for example using ravel().\n",
      "  rf.fit(X_train_std, y_train_std)\n",
      " 76%|███████▌  | 113/149 [00:55<00:17,  2.07it/s]"
     ]
    },
    {
     "name": "stdout",
     "output_type": "stream",
     "text": [
      "RMSE: 68200.675343\n"
     ]
    },
    {
     "name": "stderr",
     "output_type": "stream",
     "text": [
      "C:\\Users\\kangk\\AppData\\Local\\Temp\\ipykernel_43032\\1448372757.py:11: DataConversionWarning: A column-vector y was passed when a 1d array was expected. Please change the shape of y to (n_samples,), for example using ravel().\n",
      "  rf.fit(X_train_std, y_train_std)\n",
      " 77%|███████▋  | 114/149 [00:55<00:16,  2.09it/s]"
     ]
    },
    {
     "name": "stdout",
     "output_type": "stream",
     "text": [
      "RMSE: 68261.488857\n"
     ]
    },
    {
     "name": "stderr",
     "output_type": "stream",
     "text": [
      "C:\\Users\\kangk\\AppData\\Local\\Temp\\ipykernel_43032\\1448372757.py:11: DataConversionWarning: A column-vector y was passed when a 1d array was expected. Please change the shape of y to (n_samples,), for example using ravel().\n",
      "  rf.fit(X_train_std, y_train_std)\n",
      " 77%|███████▋  | 115/149 [00:56<00:16,  2.09it/s]"
     ]
    },
    {
     "name": "stdout",
     "output_type": "stream",
     "text": [
      "RMSE: 68444.182759\n"
     ]
    },
    {
     "name": "stderr",
     "output_type": "stream",
     "text": [
      "C:\\Users\\kangk\\AppData\\Local\\Temp\\ipykernel_43032\\1448372757.py:11: DataConversionWarning: A column-vector y was passed when a 1d array was expected. Please change the shape of y to (n_samples,), for example using ravel().\n",
      "  rf.fit(X_train_std, y_train_std)\n",
      " 78%|███████▊  | 116/149 [00:56<00:15,  2.08it/s]"
     ]
    },
    {
     "name": "stdout",
     "output_type": "stream",
     "text": [
      "RMSE: 68089.844367\n"
     ]
    },
    {
     "name": "stderr",
     "output_type": "stream",
     "text": [
      "C:\\Users\\kangk\\AppData\\Local\\Temp\\ipykernel_43032\\1448372757.py:11: DataConversionWarning: A column-vector y was passed when a 1d array was expected. Please change the shape of y to (n_samples,), for example using ravel().\n",
      "  rf.fit(X_train_std, y_train_std)\n",
      " 79%|███████▊  | 117/149 [00:56<00:15,  2.07it/s]"
     ]
    },
    {
     "name": "stdout",
     "output_type": "stream",
     "text": [
      "RMSE: 68255.319495\n"
     ]
    },
    {
     "name": "stderr",
     "output_type": "stream",
     "text": [
      "C:\\Users\\kangk\\AppData\\Local\\Temp\\ipykernel_43032\\1448372757.py:11: DataConversionWarning: A column-vector y was passed when a 1d array was expected. Please change the shape of y to (n_samples,), for example using ravel().\n",
      "  rf.fit(X_train_std, y_train_std)\n",
      " 79%|███████▉  | 118/149 [00:57<00:14,  2.09it/s]"
     ]
    },
    {
     "name": "stdout",
     "output_type": "stream",
     "text": [
      "RMSE: 68535.993238\n"
     ]
    },
    {
     "name": "stderr",
     "output_type": "stream",
     "text": [
      "C:\\Users\\kangk\\AppData\\Local\\Temp\\ipykernel_43032\\1448372757.py:11: DataConversionWarning: A column-vector y was passed when a 1d array was expected. Please change the shape of y to (n_samples,), for example using ravel().\n",
      "  rf.fit(X_train_std, y_train_std)\n",
      " 80%|███████▉  | 119/149 [00:57<00:14,  2.09it/s]"
     ]
    },
    {
     "name": "stdout",
     "output_type": "stream",
     "text": [
      "RMSE: 67562.748625\n"
     ]
    },
    {
     "name": "stderr",
     "output_type": "stream",
     "text": [
      "C:\\Users\\kangk\\AppData\\Local\\Temp\\ipykernel_43032\\1448372757.py:11: DataConversionWarning: A column-vector y was passed when a 1d array was expected. Please change the shape of y to (n_samples,), for example using ravel().\n",
      "  rf.fit(X_train_std, y_train_std)\n",
      " 81%|████████  | 120/149 [00:58<00:13,  2.09it/s]"
     ]
    },
    {
     "name": "stdout",
     "output_type": "stream",
     "text": [
      "RMSE: 68165.406143\n"
     ]
    },
    {
     "name": "stderr",
     "output_type": "stream",
     "text": [
      "C:\\Users\\kangk\\AppData\\Local\\Temp\\ipykernel_43032\\1448372757.py:11: DataConversionWarning: A column-vector y was passed when a 1d array was expected. Please change the shape of y to (n_samples,), for example using ravel().\n",
      "  rf.fit(X_train_std, y_train_std)\n",
      " 81%|████████  | 121/149 [00:58<00:13,  2.11it/s]"
     ]
    },
    {
     "name": "stdout",
     "output_type": "stream",
     "text": [
      "RMSE: 67640.067198\n"
     ]
    },
    {
     "name": "stderr",
     "output_type": "stream",
     "text": [
      "C:\\Users\\kangk\\AppData\\Local\\Temp\\ipykernel_43032\\1448372757.py:11: DataConversionWarning: A column-vector y was passed when a 1d array was expected. Please change the shape of y to (n_samples,), for example using ravel().\n",
      "  rf.fit(X_train_std, y_train_std)\n",
      " 82%|████████▏ | 122/149 [00:59<00:12,  2.12it/s]"
     ]
    },
    {
     "name": "stdout",
     "output_type": "stream",
     "text": [
      "RMSE: 69095.876102\n"
     ]
    },
    {
     "name": "stderr",
     "output_type": "stream",
     "text": [
      "C:\\Users\\kangk\\AppData\\Local\\Temp\\ipykernel_43032\\1448372757.py:11: DataConversionWarning: A column-vector y was passed when a 1d array was expected. Please change the shape of y to (n_samples,), for example using ravel().\n",
      "  rf.fit(X_train_std, y_train_std)\n",
      " 83%|████████▎ | 123/149 [00:59<00:12,  2.12it/s]"
     ]
    },
    {
     "name": "stdout",
     "output_type": "stream",
     "text": [
      "RMSE: 68776.437616\n"
     ]
    },
    {
     "name": "stderr",
     "output_type": "stream",
     "text": [
      "C:\\Users\\kangk\\AppData\\Local\\Temp\\ipykernel_43032\\1448372757.py:11: DataConversionWarning: A column-vector y was passed when a 1d array was expected. Please change the shape of y to (n_samples,), for example using ravel().\n",
      "  rf.fit(X_train_std, y_train_std)\n",
      " 83%|████████▎ | 124/149 [01:00<00:11,  2.12it/s]"
     ]
    },
    {
     "name": "stdout",
     "output_type": "stream",
     "text": [
      "RMSE: 68380.997600\n"
     ]
    },
    {
     "name": "stderr",
     "output_type": "stream",
     "text": [
      "C:\\Users\\kangk\\AppData\\Local\\Temp\\ipykernel_43032\\1448372757.py:11: DataConversionWarning: A column-vector y was passed when a 1d array was expected. Please change the shape of y to (n_samples,), for example using ravel().\n",
      "  rf.fit(X_train_std, y_train_std)\n",
      " 84%|████████▍ | 125/149 [01:00<00:11,  2.13it/s]"
     ]
    },
    {
     "name": "stdout",
     "output_type": "stream",
     "text": [
      "RMSE: 68517.611250\n"
     ]
    },
    {
     "name": "stderr",
     "output_type": "stream",
     "text": [
      "C:\\Users\\kangk\\AppData\\Local\\Temp\\ipykernel_43032\\1448372757.py:11: DataConversionWarning: A column-vector y was passed when a 1d array was expected. Please change the shape of y to (n_samples,), for example using ravel().\n",
      "  rf.fit(X_train_std, y_train_std)\n",
      " 85%|████████▍ | 126/149 [01:01<00:10,  2.13it/s]"
     ]
    },
    {
     "name": "stdout",
     "output_type": "stream",
     "text": [
      "RMSE: 68250.162202\n"
     ]
    },
    {
     "name": "stderr",
     "output_type": "stream",
     "text": [
      "C:\\Users\\kangk\\AppData\\Local\\Temp\\ipykernel_43032\\1448372757.py:11: DataConversionWarning: A column-vector y was passed when a 1d array was expected. Please change the shape of y to (n_samples,), for example using ravel().\n",
      "  rf.fit(X_train_std, y_train_std)\n",
      " 85%|████████▌ | 127/149 [01:01<00:10,  2.12it/s]"
     ]
    },
    {
     "name": "stdout",
     "output_type": "stream",
     "text": [
      "RMSE: 68341.309629\n"
     ]
    },
    {
     "name": "stderr",
     "output_type": "stream",
     "text": [
      "C:\\Users\\kangk\\AppData\\Local\\Temp\\ipykernel_43032\\1448372757.py:11: DataConversionWarning: A column-vector y was passed when a 1d array was expected. Please change the shape of y to (n_samples,), for example using ravel().\n",
      "  rf.fit(X_train_std, y_train_std)\n",
      " 86%|████████▌ | 128/149 [01:02<00:09,  2.11it/s]"
     ]
    },
    {
     "name": "stdout",
     "output_type": "stream",
     "text": [
      "RMSE: 69024.230117\n"
     ]
    },
    {
     "name": "stderr",
     "output_type": "stream",
     "text": [
      "C:\\Users\\kangk\\AppData\\Local\\Temp\\ipykernel_43032\\1448372757.py:11: DataConversionWarning: A column-vector y was passed when a 1d array was expected. Please change the shape of y to (n_samples,), for example using ravel().\n",
      "  rf.fit(X_train_std, y_train_std)\n",
      " 87%|████████▋ | 129/149 [01:02<00:09,  2.09it/s]"
     ]
    },
    {
     "name": "stdout",
     "output_type": "stream",
     "text": [
      "RMSE: 68237.770801\n"
     ]
    },
    {
     "name": "stderr",
     "output_type": "stream",
     "text": [
      "C:\\Users\\kangk\\AppData\\Local\\Temp\\ipykernel_43032\\1448372757.py:11: DataConversionWarning: A column-vector y was passed when a 1d array was expected. Please change the shape of y to (n_samples,), for example using ravel().\n",
      "  rf.fit(X_train_std, y_train_std)\n",
      " 87%|████████▋ | 130/149 [01:03<00:09,  2.08it/s]"
     ]
    },
    {
     "name": "stdout",
     "output_type": "stream",
     "text": [
      "RMSE: 67368.936982\n"
     ]
    },
    {
     "name": "stderr",
     "output_type": "stream",
     "text": [
      "C:\\Users\\kangk\\AppData\\Local\\Temp\\ipykernel_43032\\1448372757.py:11: DataConversionWarning: A column-vector y was passed when a 1d array was expected. Please change the shape of y to (n_samples,), for example using ravel().\n",
      "  rf.fit(X_train_std, y_train_std)\n",
      " 88%|████████▊ | 131/149 [01:03<00:08,  2.08it/s]"
     ]
    },
    {
     "name": "stdout",
     "output_type": "stream",
     "text": [
      "RMSE: 68278.631384\n"
     ]
    },
    {
     "name": "stderr",
     "output_type": "stream",
     "text": [
      "C:\\Users\\kangk\\AppData\\Local\\Temp\\ipykernel_43032\\1448372757.py:11: DataConversionWarning: A column-vector y was passed when a 1d array was expected. Please change the shape of y to (n_samples,), for example using ravel().\n",
      "  rf.fit(X_train_std, y_train_std)\n",
      " 89%|████████▊ | 132/149 [01:04<00:08,  2.08it/s]"
     ]
    },
    {
     "name": "stdout",
     "output_type": "stream",
     "text": [
      "RMSE: 68045.575056\n"
     ]
    },
    {
     "name": "stderr",
     "output_type": "stream",
     "text": [
      "C:\\Users\\kangk\\AppData\\Local\\Temp\\ipykernel_43032\\1448372757.py:11: DataConversionWarning: A column-vector y was passed when a 1d array was expected. Please change the shape of y to (n_samples,), for example using ravel().\n",
      "  rf.fit(X_train_std, y_train_std)\n",
      " 89%|████████▉ | 133/149 [01:04<00:07,  2.08it/s]"
     ]
    },
    {
     "name": "stdout",
     "output_type": "stream",
     "text": [
      "RMSE: 68292.766843\n"
     ]
    },
    {
     "name": "stderr",
     "output_type": "stream",
     "text": [
      "C:\\Users\\kangk\\AppData\\Local\\Temp\\ipykernel_43032\\1448372757.py:11: DataConversionWarning: A column-vector y was passed when a 1d array was expected. Please change the shape of y to (n_samples,), for example using ravel().\n",
      "  rf.fit(X_train_std, y_train_std)\n",
      " 90%|████████▉ | 134/149 [01:05<00:07,  2.07it/s]"
     ]
    },
    {
     "name": "stdout",
     "output_type": "stream",
     "text": [
      "RMSE: 68173.540989\n"
     ]
    },
    {
     "name": "stderr",
     "output_type": "stream",
     "text": [
      "C:\\Users\\kangk\\AppData\\Local\\Temp\\ipykernel_43032\\1448372757.py:11: DataConversionWarning: A column-vector y was passed when a 1d array was expected. Please change the shape of y to (n_samples,), for example using ravel().\n",
      "  rf.fit(X_train_std, y_train_std)\n",
      " 91%|█████████ | 135/149 [01:05<00:06,  2.08it/s]"
     ]
    },
    {
     "name": "stdout",
     "output_type": "stream",
     "text": [
      "RMSE: 67721.100955\n"
     ]
    },
    {
     "name": "stderr",
     "output_type": "stream",
     "text": [
      "C:\\Users\\kangk\\AppData\\Local\\Temp\\ipykernel_43032\\1448372757.py:11: DataConversionWarning: A column-vector y was passed when a 1d array was expected. Please change the shape of y to (n_samples,), for example using ravel().\n",
      "  rf.fit(X_train_std, y_train_std)\n",
      " 91%|█████████▏| 136/149 [01:06<00:06,  2.08it/s]"
     ]
    },
    {
     "name": "stdout",
     "output_type": "stream",
     "text": [
      "RMSE: 67941.876369\n"
     ]
    },
    {
     "name": "stderr",
     "output_type": "stream",
     "text": [
      "C:\\Users\\kangk\\AppData\\Local\\Temp\\ipykernel_43032\\1448372757.py:11: DataConversionWarning: A column-vector y was passed when a 1d array was expected. Please change the shape of y to (n_samples,), for example using ravel().\n",
      "  rf.fit(X_train_std, y_train_std)\n",
      " 92%|█████████▏| 137/149 [01:06<00:05,  2.07it/s]"
     ]
    },
    {
     "name": "stdout",
     "output_type": "stream",
     "text": [
      "RMSE: 68739.316227\n"
     ]
    },
    {
     "name": "stderr",
     "output_type": "stream",
     "text": [
      "C:\\Users\\kangk\\AppData\\Local\\Temp\\ipykernel_43032\\1448372757.py:11: DataConversionWarning: A column-vector y was passed when a 1d array was expected. Please change the shape of y to (n_samples,), for example using ravel().\n",
      "  rf.fit(X_train_std, y_train_std)\n",
      " 93%|█████████▎| 138/149 [01:07<00:05,  2.06it/s]"
     ]
    },
    {
     "name": "stdout",
     "output_type": "stream",
     "text": [
      "RMSE: 68371.767104\n"
     ]
    },
    {
     "name": "stderr",
     "output_type": "stream",
     "text": [
      "C:\\Users\\kangk\\AppData\\Local\\Temp\\ipykernel_43032\\1448372757.py:11: DataConversionWarning: A column-vector y was passed when a 1d array was expected. Please change the shape of y to (n_samples,), for example using ravel().\n",
      "  rf.fit(X_train_std, y_train_std)\n",
      " 93%|█████████▎| 139/149 [01:07<00:04,  2.08it/s]"
     ]
    },
    {
     "name": "stdout",
     "output_type": "stream",
     "text": [
      "RMSE: 67661.395394\n"
     ]
    },
    {
     "name": "stderr",
     "output_type": "stream",
     "text": [
      "C:\\Users\\kangk\\AppData\\Local\\Temp\\ipykernel_43032\\1448372757.py:11: DataConversionWarning: A column-vector y was passed when a 1d array was expected. Please change the shape of y to (n_samples,), for example using ravel().\n",
      "  rf.fit(X_train_std, y_train_std)\n",
      " 94%|█████████▍| 140/149 [01:07<00:04,  2.06it/s]"
     ]
    },
    {
     "name": "stdout",
     "output_type": "stream",
     "text": [
      "RMSE: 67967.143383\n"
     ]
    },
    {
     "name": "stderr",
     "output_type": "stream",
     "text": [
      "C:\\Users\\kangk\\AppData\\Local\\Temp\\ipykernel_43032\\1448372757.py:11: DataConversionWarning: A column-vector y was passed when a 1d array was expected. Please change the shape of y to (n_samples,), for example using ravel().\n",
      "  rf.fit(X_train_std, y_train_std)\n",
      " 95%|█████████▍| 141/149 [01:08<00:03,  2.06it/s]"
     ]
    },
    {
     "name": "stdout",
     "output_type": "stream",
     "text": [
      "RMSE: 67982.086854\n"
     ]
    },
    {
     "name": "stderr",
     "output_type": "stream",
     "text": [
      "C:\\Users\\kangk\\AppData\\Local\\Temp\\ipykernel_43032\\1448372757.py:11: DataConversionWarning: A column-vector y was passed when a 1d array was expected. Please change the shape of y to (n_samples,), for example using ravel().\n",
      "  rf.fit(X_train_std, y_train_std)\n",
      " 95%|█████████▌| 142/149 [01:08<00:03,  2.05it/s]"
     ]
    },
    {
     "name": "stdout",
     "output_type": "stream",
     "text": [
      "RMSE: 68691.866747\n"
     ]
    },
    {
     "name": "stderr",
     "output_type": "stream",
     "text": [
      "C:\\Users\\kangk\\AppData\\Local\\Temp\\ipykernel_43032\\1448372757.py:11: DataConversionWarning: A column-vector y was passed when a 1d array was expected. Please change the shape of y to (n_samples,), for example using ravel().\n",
      "  rf.fit(X_train_std, y_train_std)\n",
      " 96%|█████████▌| 143/149 [01:09<00:02,  2.07it/s]"
     ]
    },
    {
     "name": "stdout",
     "output_type": "stream",
     "text": [
      "RMSE: 68259.404013\n"
     ]
    },
    {
     "name": "stderr",
     "output_type": "stream",
     "text": [
      "C:\\Users\\kangk\\AppData\\Local\\Temp\\ipykernel_43032\\1448372757.py:11: DataConversionWarning: A column-vector y was passed when a 1d array was expected. Please change the shape of y to (n_samples,), for example using ravel().\n",
      "  rf.fit(X_train_std, y_train_std)\n",
      " 97%|█████████▋| 144/149 [01:09<00:02,  2.07it/s]"
     ]
    },
    {
     "name": "stdout",
     "output_type": "stream",
     "text": [
      "RMSE: 67837.542878\n"
     ]
    },
    {
     "name": "stderr",
     "output_type": "stream",
     "text": [
      "C:\\Users\\kangk\\AppData\\Local\\Temp\\ipykernel_43032\\1448372757.py:11: DataConversionWarning: A column-vector y was passed when a 1d array was expected. Please change the shape of y to (n_samples,), for example using ravel().\n",
      "  rf.fit(X_train_std, y_train_std)\n",
      " 97%|█████████▋| 145/149 [01:10<00:01,  2.09it/s]"
     ]
    },
    {
     "name": "stdout",
     "output_type": "stream",
     "text": [
      "RMSE: 68625.693794\n"
     ]
    },
    {
     "name": "stderr",
     "output_type": "stream",
     "text": [
      "C:\\Users\\kangk\\AppData\\Local\\Temp\\ipykernel_43032\\1448372757.py:11: DataConversionWarning: A column-vector y was passed when a 1d array was expected. Please change the shape of y to (n_samples,), for example using ravel().\n",
      "  rf.fit(X_train_std, y_train_std)\n",
      " 98%|█████████▊| 146/149 [01:10<00:01,  2.10it/s]"
     ]
    },
    {
     "name": "stdout",
     "output_type": "stream",
     "text": [
      "RMSE: 68636.326031\n"
     ]
    },
    {
     "name": "stderr",
     "output_type": "stream",
     "text": [
      "C:\\Users\\kangk\\AppData\\Local\\Temp\\ipykernel_43032\\1448372757.py:11: DataConversionWarning: A column-vector y was passed when a 1d array was expected. Please change the shape of y to (n_samples,), for example using ravel().\n",
      "  rf.fit(X_train_std, y_train_std)\n",
      " 99%|█████████▊| 147/149 [01:11<00:00,  2.10it/s]"
     ]
    },
    {
     "name": "stdout",
     "output_type": "stream",
     "text": [
      "RMSE: 67614.442861\n"
     ]
    },
    {
     "name": "stderr",
     "output_type": "stream",
     "text": [
      "C:\\Users\\kangk\\AppData\\Local\\Temp\\ipykernel_43032\\1448372757.py:11: DataConversionWarning: A column-vector y was passed when a 1d array was expected. Please change the shape of y to (n_samples,), for example using ravel().\n",
      "  rf.fit(X_train_std, y_train_std)\n",
      " 99%|█████████▉| 148/149 [01:11<00:00,  2.11it/s]"
     ]
    },
    {
     "name": "stdout",
     "output_type": "stream",
     "text": [
      "RMSE: 67719.976566\n"
     ]
    },
    {
     "name": "stderr",
     "output_type": "stream",
     "text": [
      "C:\\Users\\kangk\\AppData\\Local\\Temp\\ipykernel_43032\\1448372757.py:11: DataConversionWarning: A column-vector y was passed when a 1d array was expected. Please change the shape of y to (n_samples,), for example using ravel().\n",
      "  rf.fit(X_train_std, y_train_std)\n",
      "100%|██████████| 149/149 [01:12<00:00,  2.06it/s]"
     ]
    },
    {
     "name": "stdout",
     "output_type": "stream",
     "text": [
      "RMSE: 69223.683500\n"
     ]
    },
    {
     "name": "stderr",
     "output_type": "stream",
     "text": [
      "\n"
     ]
    }
   ],
   "source": [
    "# random forest\n",
    "for i in tqdm(range(1, 150)):\n",
    "    X_train, X_test, y_train, y_test = train_test_split(train_25.drop('SalePrice', axis=1), train_25['SalePrice'], test_size=0.3, random_state=50)\n",
    "    sc_std = preprocessing.StandardScaler()\n",
    "    sc_std_result = preprocessing.StandardScaler()\n",
    "    X_train_std = sc_std.fit_transform(X_train)\n",
    "    X_test_std = sc_std.fit_transform(X_test)\n",
    "    y_train_std = sc_std.fit_transform(y_train.values.reshape(-1, 1))\n",
    "    y_test_std = sc_std_result.fit_transform(y_test.values.reshape(-1, 1))\n",
    "    rf = RandomForestRegressor(n_estimators=100, max_depth=10, random_state=i)\n",
    "    rf.fit(X_train_std, y_train_std)\n",
    "    result = rf.predict(sc_std.fit_transform(test_25)).reshape(-1, 1)\n",
    "    result = sc_std_result.inverse_transform(result)\n",
    "    sample_Value = sample_submission['SalePrice']\n",
    "    sample_Value = sample_Value.values.reshape(-1, 1)\n",
    "    rmse = np.sqrt(mean_squared_error(sample_Value, result))\n",
    "    print(\"RMSE: %f\" % (rmse))"
   ],
   "metadata": {
    "collapsed": false,
    "pycharm": {
     "name": "#%%\n"
    }
   }
  },
  {
   "cell_type": "code",
   "execution_count": null,
   "outputs": [],
   "source": [],
   "metadata": {
    "collapsed": false,
    "pycharm": {
     "name": "#%%\n"
    }
   }
  }
 ],
 "metadata": {
  "kernelspec": {
   "display_name": "Python 3",
   "language": "python",
   "name": "python3"
  },
  "language_info": {
   "codemirror_mode": {
    "name": "ipython",
    "version": 2
   },
   "file_extension": ".py",
   "mimetype": "text/x-python",
   "name": "python",
   "nbconvert_exporter": "python",
   "pygments_lexer": "ipython2",
   "version": "2.7.6"
  }
 },
 "nbformat": 4,
 "nbformat_minor": 0
}